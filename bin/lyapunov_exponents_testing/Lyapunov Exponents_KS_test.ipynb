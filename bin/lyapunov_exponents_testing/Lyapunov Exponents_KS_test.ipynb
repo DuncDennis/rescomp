{
 "cells": [
  {
   "cell_type": "code",
   "execution_count": 2,
   "id": "a95b6a16",
   "metadata": {},
   "outputs": [],
   "source": [
    "import numpy as np\n",
    "import rescomp\n",
    "\n",
    "import matplotlib.pyplot as plt\n",
    "import pyfftw"
   ]
  },
  {
   "cell_type": "code",
   "execution_count": 1,
   "id": "afee5fba",
   "metadata": {},
   "outputs": [
    {
     "data": {
      "text/plain": [
       "'C:\\\\Users\\\\Dennis\\\\anaconda3\\\\envs\\\\rc_env_KS_1\\\\python.exe'"
      ]
     },
     "execution_count": 1,
     "metadata": {},
     "output_type": "execute_result"
    }
   ],
   "source": [
    "import sys\n",
    "sys.executable"
   ]
  },
  {
   "cell_type": "markdown",
   "id": "b9f5d62a",
   "metadata": {},
   "source": [
    "### KS System:"
   ]
  },
  {
   "cell_type": "code",
   "execution_count": null,
   "id": "8f23b8ba",
   "metadata": {},
   "outputs": [],
   "source": [
    "# KS system:\n",
    "dimensions = 40\n",
    "system_size = 30\n",
    "def data_creation_function_KS(time_steps, dt, starting_point=None):\n",
    "    sim_data = rescomp.simulate_trajectory(\n",
    "            sys_flag='kuramoto_sivashinsky', dimensions=dimensions, system_size=system_size, dt=dt,\n",
    "            time_steps=time_steps, starting_point = starting_point)\n",
    "    return sim_data\n",
    "\n",
    "def data_creation_function_KS_Bhatt(time_steps, dt, starting_point=None):\n",
    "    sim_data = rescomp.simulations._kuramoto_sivashinsky_Bhatt(dimensions=dimensions, system_size=system_size, dt=dt,\n",
    "                                                    time_steps=time_steps, starting_point=starting_point,\n",
    "                                                    alpha=1, beta=1)\n",
    "    return sim_data"
   ]
  },
  {
   "cell_type": "code",
   "execution_count": null,
   "id": "ceb45e69",
   "metadata": {},
   "outputs": [],
   "source": [
    "dt = 0.1\n",
    "N = 100\n",
    "tau = 5\n",
    "T = 2\n",
    "eps = 1e-6\n",
    "m = 12"
   ]
  },
  {
   "cell_type": "code",
   "execution_count": null,
   "id": "d02996d2",
   "metadata": {},
   "outputs": [],
   "source": [
    "same_starting_point = data_creation_function_KS(time_steps=1, dt=1, starting_point=None)[-1]\n",
    "\n",
    "f1 = lambda x: data_creation_function_KS(time_steps=2, dt=dt, starting_point=x)[-1]\n",
    "f2 = lambda x: data_creation_function_KS_Bhatt(time_steps=2, dt=dt, starting_point=x)[-1]"
   ]
  },
  {
   "cell_type": "code",
   "execution_count": null,
   "id": "937e2927",
   "metadata": {},
   "outputs": [],
   "source": [
    "# original KS Sim:\n",
    "lyapunov_exp, lyapunov_exp_convergence = rescomp.measures.iterator_based_lyapunov_spectrum(f1, \n",
    "                                                                                           starting_point=same_starting_point, \n",
    "                                                                                           T=T, \n",
    "                                                                                           tau=tau,\n",
    "                                                  eps=eps, nr_steps=N, dt=dt, return_convergence=True, nr_of_lyapunovs=m)"
   ]
  },
  {
   "cell_type": "code",
   "execution_count": null,
   "id": "74f20019",
   "metadata": {},
   "outputs": [],
   "source": [
    "# Bhatt KS Sim:\n",
    "lyapunov_exp_B, lyapunov_exp_convergence_B = rescomp.measures.iterator_based_lyapunov_spectrum(f2, \n",
    "                                                                                               starting_point=same_starting_point,\n",
    "                                                                                               T=T, \n",
    "                                                                                           tau=tau,\n",
    "                                                  eps=eps, nr_steps=N, dt=dt, return_convergence=True, nr_of_lyapunovs=m)"
   ]
  },
  {
   "cell_type": "code",
   "execution_count": null,
   "id": "21c27619",
   "metadata": {},
   "outputs": [],
   "source": [
    "print(lyapunov_exp)\n",
    "plt.figure(figsize=(10,5))\n",
    "for iteration in lyapunov_exp_convergence.T:\n",
    "    plt.plot(iteration[20:])\n",
    "plt.grid()"
   ]
  },
  {
   "cell_type": "code",
   "execution_count": null,
   "id": "0e1ebf83",
   "metadata": {},
   "outputs": [],
   "source": [
    "print(lyapunov_exp_B)\n",
    "plt.figure(figsize=(10,5))\n",
    "for iteration in lyapunov_exp_convergence_B.T:\n",
    "    plt.plot(iteration[20:])\n",
    "plt.grid()"
   ]
  },
  {
   "cell_type": "code",
   "execution_count": null,
   "id": "f9afd4a8",
   "metadata": {},
   "outputs": [],
   "source": [
    "delta_exp = lyapunov_exp_B - lyapunov_exp\n",
    "print(delta_exp)\n",
    "plt.figure(figsize=(10,5))\n",
    "for iteration in np.abs(lyapunov_exp_convergence_B - lyapunov_exp_convergence).T:\n",
    "    plt.plot(iteration[20:])\n",
    "plt.grid()"
   ]
  },
  {
   "cell_type": "markdown",
   "id": "15f7a426",
   "metadata": {},
   "source": [
    "# Test _kuramoto_sivashinsky_custom"
   ]
  },
  {
   "cell_type": "code",
   "execution_count": 18,
   "id": "9dc3752d",
   "metadata": {},
   "outputs": [],
   "source": [
    "# Sweep:\n",
    "precisions = [128, 64, 32, 16]\n",
    "fft_types = [\"numpy\", \"scipy\", \"pyfftw_np\", \"pyfftw_sc\", \"pyfftw_fftw\"]\n",
    "\n",
    "# Fixed:\n",
    "starting_point=None\n",
    "dimensions = 40\n",
    "system_size = 30\n",
    "\n",
    "# LE-Algo:\n",
    "dt = 0.1\n",
    "N = 100\n",
    "tau = 10\n",
    "T = 5\n",
    "eps = 1e-6\n",
    "m = 12\n",
    "\n",
    "def create_ks_sim_func(fft_type, prec, dimensions, system_size):\n",
    "    def data_creation_function(time_steps, dt, starting_point=None):\n",
    "        return rescomp.simulations._kuramoto_sivashinsky_custom(dimensions, system_size, dt, time_steps, starting_point,\n",
    "                                 precision=prec, fft_type=fft_type)\n",
    "    return data_creation_function\n",
    "                                                        \n",
    "data_creation_functions_dict = {}\n",
    "for prec in precisions:\n",
    "    for fft_type in fft_types:\n",
    "        data_creation_functions_dict[(prec, fft_type)] = create_ks_sim_func(fft_type, prec, dimensions, system_size)"
   ]
  },
  {
   "cell_type": "code",
   "execution_count": 19,
   "id": "986c2710",
   "metadata": {},
   "outputs": [
    {
     "name": "stdout",
     "output_type": "stream",
     "text": [
      "1 (128, 'numpy')\n",
      "Error:  data type \"float128\" not understood\n",
      "2 (128, 'scipy')\n",
      "Error:  data type \"float128\" not understood\n",
      "3 (128, 'pyfftw_np')\n",
      "Error:  data type \"float128\" not understood\n",
      "4 (128, 'pyfftw_sc')\n",
      "Error:  module 'pyfftw.interfaces' has no attribute 'scipy_fft'\n",
      "5 (128, 'pyfftw_fftw')\n",
      "Error:  data type \"float128\" not understood\n",
      "6 (64, 'numpy')\n",
      "7 (64, 'scipy')\n",
      "8 (64, 'pyfftw_np')\n",
      "9 (64, 'pyfftw_sc')\n",
      "Error:  module 'pyfftw.interfaces' has no attribute 'scipy_fft'\n",
      "10 (64, 'pyfftw_fftw')\n",
      "11 (32, 'numpy')\n",
      "12 (32, 'scipy')\n",
      "13 (32, 'pyfftw_np')\n",
      "14 (32, 'pyfftw_sc')\n",
      "Error:  module 'pyfftw.interfaces' has no attribute 'scipy_fft'\n",
      "15 (32, 'pyfftw_fftw')\n"
     ]
    },
    {
     "name": "stderr",
     "output_type": "stream",
     "text": [
      "c:\\users\\dennis\\documents\\github\\rescomp\\rescomp\\simulations.py:783: RuntimeWarning: invalid value encountered in multiply\n",
      "  v = E * v + Nv * f1 + 2 * (Na + Nb) * f2 + Nc * f3\n"
     ]
    },
    {
     "name": "stdout",
     "output_type": "stream",
     "text": [
      "16 (16, 'numpy')\n",
      "Error:  data type \"complex32\" not understood\n",
      "17 (16, 'scipy')\n",
      "Error:  data type \"complex32\" not understood\n",
      "18 (16, 'pyfftw_np')\n",
      "Error:  data type \"complex32\" not understood\n",
      "19 (16, 'pyfftw_sc')\n",
      "Error:  module 'pyfftw.interfaces' has no attribute 'scipy_fft'\n",
      "20 (16, 'pyfftw_fftw')\n",
      "Error:  data type \"complex32\" not understood\n"
     ]
    }
   ],
   "source": [
    "res_dict = {}\n",
    "\n",
    "i = 1\n",
    "for key, func in data_creation_functions_dict.items():\n",
    "    print(i, key)\n",
    "    i+=1\n",
    "    f = lambda x: func(time_steps=2, dt=dt, starting_point=x)[-1]\n",
    "    try:\n",
    "        lyapunov_exp_res = rescomp.measures.iterator_based_lyapunov_spectrum(f, \n",
    "                                                                             starting_point, \n",
    "                                                                             T=T, \n",
    "                                                                             tau=tau,\n",
    "                                                                             eps=eps, \n",
    "                                                                             nr_steps=N, \n",
    "                                                                             dt=dt, \n",
    "                                                                             return_convergence=True,\n",
    "                                                                             nr_of_lyapunovs=m)\n",
    "        res_dict[key] = lyapunov_exp_res\n",
    "    except Exception as e:\n",
    "        print(\"Error: \", e)\n",
    "        res_dict[key] = e\n",
    "    "
   ]
  },
  {
   "cell_type": "code",
   "execution_count": 24,
   "id": "52b9ad4d",
   "metadata": {},
   "outputs": [
    {
     "name": "stdout",
     "output_type": "stream",
     "text": [
      "(128, 'numpy'), error: data type \"float128\" not understood\n",
      "(128, 'scipy'), error: data type \"float128\" not understood\n",
      "(128, 'pyfftw_np'), error: data type \"float128\" not understood\n",
      "(128, 'pyfftw_sc'), error: module 'pyfftw.interfaces' has no attribute 'scipy_fft'\n",
      "(128, 'pyfftw_fftw'), error: data type \"float128\" not understood\n",
      "(64, 'pyfftw_sc'), error: module 'pyfftw.interfaces' has no attribute 'scipy_fft'\n",
      "(32, 'pyfftw_sc'), error: module 'pyfftw.interfaces' has no attribute 'scipy_fft'\n",
      "(16, 'numpy'), error: data type \"complex32\" not understood\n",
      "(16, 'scipy'), error: data type \"complex32\" not understood\n",
      "(16, 'pyfftw_np'), error: data type \"complex32\" not understood\n",
      "(16, 'pyfftw_sc'), error: module 'pyfftw.interfaces' has no attribute 'scipy_fft'\n",
      "(16, 'pyfftw_fftw'), error: data type \"complex32\" not understood\n",
      "others:\n"
     ]
    },
    {
     "data": {
      "text/plain": [
       "<matplotlib.legend.Legend at 0x2ed6d88a288>"
      ]
     },
     "execution_count": 24,
     "metadata": {},
     "output_type": "execute_result"
    },
    {
     "data": {
      "image/png": "[encoded data removed]",
      "text/plain": [
       "<Figure size 432x288 with 1 Axes>"
      ]
     },
     "metadata": {
      "needs_background": "light"
     },
     "output_type": "display_data"
    }
   ],
   "source": [
    "for key, val in res_dict.items():\n",
    "    if type(val) == tuple:\n",
    "        largest_le_index = np.argmax(val[0])\n",
    "        largest_le_evol = val[1][:, largest_le_index]\n",
    "        \n",
    "        plt.plot(largest_le_evol, label=key)\n",
    "    else:\n",
    "        print(f\"{key}, error: {val}\")\n",
    "\n",
    "print(\"others:\")\n",
    "plt.legend()"
   ]
  },
  {
   "cell_type": "markdown",
   "id": "3972c784",
   "metadata": {},
   "source": [
    "### Lorenz system:"
   ]
  },
  {
   "cell_type": "code",
   "execution_count": null,
   "id": "806af395",
   "metadata": {},
   "outputs": [],
   "source": [
    "# Lorenz system\n",
    "def data_creation_function_Lorenz(time_steps, dt, starting_point=None):\n",
    "    return  rescomp.simulate_trajectory(\n",
    "            sys_flag='lorenz', dt=dt, time_steps=time_steps,\n",
    "            starting_point=starting_point)"
   ]
  },
  {
   "cell_type": "code",
   "execution_count": null,
   "id": "c34458df",
   "metadata": {},
   "outputs": [],
   "source": [
    "# Parameter ranges:\n",
    "dts = [0.25, 0.1, 0.05, 0.01]\n",
    "Ns = [100, 1000]\n",
    "tau = 100\n",
    "Ts = [0.1, 1, 10]\n",
    "epss = [1e-8, 1e-6, 1e-3]\n",
    "m = 3\n",
    "\n",
    "starting_point = np.array([-14.03020521, -20.88693127, 25.53545])\n",
    "\n",
    "lyapexp_array = np.zeros((len(dts), len(Ns), len(Ts), len(epss), m))\n",
    "\n",
    "for i_dt, dt in enumerate(dts):\n",
    "    print(f\"dt: {dt}\")\n",
    "    def f(x):\n",
    "        return data_creation_function_Lorenz(time_steps=2, dt=dt, starting_point=x)[-1]\n",
    "    for i_N, N in enumerate(Ns):\n",
    "        print(f\"N: {N}\")\n",
    "        for i_T, T in enumerate(Ts):\n",
    "            for i_eps, eps in enumerate(epss):\n",
    "                lyapexp_array[i_dt, i_N, i_T, i_eps, :] = rescomp.measures.iterator_based_lyapunov_spectrum(f, starting_point, T=T, \n",
    "                                                                                           tau=tau,\n",
    "                                                  eps=eps, nr_steps=N, dt=dt, return_convergence=False, nr_of_lyapunovs = m)\n",
    "                \n"
   ]
  },
  {
   "cell_type": "code",
   "execution_count": null,
   "id": "36a65bb2",
   "metadata": {},
   "outputs": [],
   "source": [
    "lyapexp_array.shape"
   ]
  },
  {
   "cell_type": "code",
   "execution_count": null,
   "id": "c746461d",
   "metadata": {},
   "outputs": [],
   "source": [
    "x_axis_ticks = []\n",
    "for i_dt, dt in enumerate(dts):\n",
    "    for i_N, N in enumerate(Ns):\n",
    "        for i_T, T in enumerate(Ts):\n",
    "            for i_eps, eps in enumerate(epss):\n",
    "                x_axis_ticks.append(f\"dt({dt}), N({N}), T({T}), eps({eps})\")"
   ]
  },
  {
   "cell_type": "code",
   "execution_count": null,
   "id": "a44b6cdb",
   "metadata": {
    "scrolled": false
   },
   "outputs": [],
   "source": [
    "# data:\n",
    "first = lyapexp_array[:, :, :, :, 0]\n",
    "second = lyapexp_array[:, :, :, :, 1]\n",
    "thrid = lyapexp_array[:, :, :, :, 2]\n",
    "\n",
    "# plot:\n",
    "fig, axs = plt.subplots(nrows=3, ncols=1, figsize=(15,10), sharex=True)\n",
    "\n",
    "ax = axs[0]\n",
    "ax.grid()\n",
    "ax.plot(x_axis_ticks, first.flatten())\n",
    "ax.set_title(\"first lyapunov\")\n",
    "\n",
    "ax = axs[1]\n",
    "ax.grid()\n",
    "ax.plot(second.flatten())\n",
    "ax.set_title(\"second lyapunov\")\n",
    "\n",
    "ax = axs[2]\n",
    "ax.grid()\n",
    "ax.plot(thrid.flatten())\n",
    "ax.set_title(\"third lyapunov\")"
   ]
  },
  {
   "cell_type": "code",
   "execution_count": null,
   "id": "3410e7b8",
   "metadata": {
    "scrolled": false
   },
   "outputs": [],
   "source": [
    "x_axis_ticks = dts\n",
    "\n",
    "colors_eps = {0: \"r\", 1: \"b\", 2: \"g\"}\n",
    "linestyles_T = {0: \"--\", 1: \"-\", 2: \"dotted\"}\n",
    "\n",
    "# plot:\n",
    "fig, axs = plt.subplots(nrows=3, ncols=1, figsize=(15,15), sharex=True)\n",
    "\n",
    "ax = axs[0]\n",
    "ax.grid()\n",
    "\n",
    "for i_T, T in enumerate(Ts):\n",
    "    for i_eps, eps in enumerate(epss):\n",
    "        ax.plot(x_axis_ticks, lyapexp_array[:, -1, i_T, i_eps, 0], label=f\"N: {N}, T= {T}, eps = {eps}\",\n",
    "                linestyle=linestyles_T[i_T], color=colors_eps[i_eps])\n",
    "ax.set_title(\"first lyapunov\")\n",
    "\n",
    "\n",
    "ax = axs[1]\n",
    "ax.grid()\n",
    "for i_T, T in enumerate(Ts):\n",
    "    for i_eps, eps in enumerate(epss):\n",
    "        ax.plot(x_axis_ticks, lyapexp_array[:, -1, i_T, i_eps, 1], label=f\"N: {N}, T= {T}, eps = {eps}\",\n",
    "                linestyle=linestyles_T[i_T], color=colors_eps[i_eps])\n",
    "ax.set_title(\"second lyapunov\")\n",
    "\n",
    "ax = axs[2]\n",
    "ax.grid()\n",
    "for i_T, T in enumerate(Ts):\n",
    "    for i_eps, eps in enumerate(epss):\n",
    "        ax.plot(x_axis_ticks, lyapexp_array[:, -1, i_T, i_eps, 2], label=f\"N: {N}, T= {T}, eps = {eps}\",\n",
    "                linestyle=linestyles_T[i_T], color=colors_eps[i_eps])\n",
    "ax.set_title(\"third lyapunov\")\n",
    "\n",
    "ax.set_xticks(x_axis_ticks)\n",
    "ax.set_xlabel(\"dt\")\n",
    "\n",
    "plt.legend(loc=\"best\")"
   ]
  },
  {
   "cell_type": "code",
   "execution_count": null,
   "id": "d4007c8b",
   "metadata": {},
   "outputs": [],
   "source": [
    "best = lyapexp_array[-2, -1, 1, 0, :]\n",
    "print(best)"
   ]
  },
  {
   "cell_type": "code",
   "execution_count": null,
   "id": "3258a3d9",
   "metadata": {},
   "outputs": [],
   "source": [
    "starting_point = np.array([-14.03020521, -20.88693127, 25.53545])\n",
    "\n",
    "f = lambda x: data_creation_function_Lorenz(time_steps=2, dt=dt, starting_point=x)[-1]\n",
    "\n",
    "\n",
    "lyapunov_exp, lyapunov_exp_convergence = rescomp.measures.iterator_based_lyapunov_spectrum(f, starting_point, T=T, \n",
    "                                                                                           tau=tau,\n",
    "                                                  eps=eps, nr_steps=N, dt=dt, return_convergence=True)"
   ]
  },
  {
   "cell_type": "code",
   "execution_count": null,
   "id": "bd3dc691",
   "metadata": {},
   "outputs": [],
   "source": [
    "print(lyapunov_exp)\n",
    "plt.figure(figsize=(10,5))\n",
    "for iteration in lyapunov_exp_convergence.T:\n",
    "    plt.plot(iteration)\n",
    "plt.grid()\n",
    "\n",
    "print(rescomp.measures.KY_dimension(lyapunov_exp))"
   ]
  }
 ],
 "metadata": {
  "hide_input": false,
  "kernelspec": {
   "display_name": "Python [conda env:rc_env_KS_1]",
   "language": "python",
   "name": "conda-env-rc_env_KS_1-py"
  },
  "language_info": {
   "codemirror_mode": {
    "name": "ipython",
    "version": 3
   },
   "file_extension": ".py",
   "mimetype": "text/x-python",
   "name": "python",
   "nbconvert_exporter": "python",
   "pygments_lexer": "ipython3",
   "version": "3.7.5"
  }
 },
 "nbformat": 4,
 "nbformat_minor": 5
}
