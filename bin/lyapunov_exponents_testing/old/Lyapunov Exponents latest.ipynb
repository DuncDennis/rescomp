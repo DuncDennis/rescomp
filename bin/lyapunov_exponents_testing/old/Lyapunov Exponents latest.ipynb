{
 "cells": [
  {
   "cell_type": "code",
   "execution_count": 1,
   "id": "a95b6a16",
   "metadata": {},
   "outputs": [],
   "source": [
    "import numpy as np\n",
    "import rescomp\n",
    "\n",
    "import matplotlib.pyplot as plt"
   ]
  },
  {
   "cell_type": "markdown",
   "id": "3972c784",
   "metadata": {},
   "source": [
    "### Lorenz system:"
   ]
  },
  {
   "cell_type": "code",
   "execution_count": 2,
   "id": "806af395",
   "metadata": {},
   "outputs": [],
   "source": [
    "# Lorenz system\n",
    "def data_creation_function_Lorenz(time_steps, dt, starting_point=None):\n",
    "    return  rescomp.simulate_trajectory(\n",
    "            sys_flag='lorenz', dt=dt, time_steps=time_steps,\n",
    "            starting_point=starting_point)"
   ]
  },
  {
   "cell_type": "code",
   "execution_count": 11,
   "id": "f3c77c23",
   "metadata": {},
   "outputs": [],
   "source": [
    "dt = 0.05\n",
    "N = 1000\n",
    "tau = 100\n",
    "T = 1\n",
    "eps = 1e-6"
   ]
  },
  {
   "cell_type": "code",
   "execution_count": 12,
   "id": "3258a3d9",
   "metadata": {},
   "outputs": [],
   "source": [
    "starting_point = np.array([-14.03020521, -20.88693127, 25.53545])\n",
    "\n",
    "f = lambda x: data_creation_function_Lorenz(time_steps=2, dt=dt, starting_point=x)[-1]\n",
    "\n",
    "\n",
    "lyapunov_exp, lyapunov_exp_convergence = rescomp.measures.iterator_based_lyapunov_spectrum(f, starting_point, T=T, \n",
    "                                                                                           tau=tau,\n",
    "                                                  eps=eps, nr_steps=N, dt=dt, return_convergence=True)"
   ]
  },
  {
   "cell_type": "code",
   "execution_count": 13,
   "id": "bd3dc691",
   "metadata": {},
   "outputs": [
    {
     "name": "stdout",
     "output_type": "stream",
     "text": [
      "[ 8.52714912e-01  1.00140020e-04 -1.35103408e+01]\n",
      "2.0631231338667466\n"
     ]
    },
    {
     "data": {
      "image/png": "[encoded data removed]",
      "text/plain": [
       "<Figure size 720x360 with 1 Axes>"
      ]
     },
     "metadata": {
      "needs_background": "light"
     },
     "output_type": "display_data"
    }
   ],
   "source": [
    "print(lyapunov_exp)\n",
    "plt.figure(figsize=(10,5))\n",
    "for iteration in lyapunov_exp_convergence.T:\n",
    "    plt.plot(iteration)\n",
    "plt.grid()\n",
    "\n",
    "print(rescomp.measures.KY_dimension(lyapunov_exp))"
   ]
  },
  {
   "cell_type": "markdown",
   "id": "b9f5d62a",
   "metadata": {},
   "source": [
    "### KS System:"
   ]
  },
  {
   "cell_type": "code",
   "execution_count": null,
   "id": "8f23b8ba",
   "metadata": {},
   "outputs": [],
   "source": [
    "# KS system:\n",
    "dimensions = 64\n",
    "system_size = 36\n",
    "def data_creation_function_KS(time_steps, dt, starting_point=None):\n",
    "    sim_data = rescomp.simulate_trajectory(\n",
    "            sys_flag='kuramoto_sivashinsky', dimensions=dimensions, system_size=system_size, dt=dt,\n",
    "            time_steps=time_steps, starting_point = starting_point)\n",
    "    return sim_data"
   ]
  },
  {
   "cell_type": "code",
   "execution_count": null,
   "id": "ceb45e69",
   "metadata": {},
   "outputs": [],
   "source": [
    "dt = 0.1\n",
    "N = 100\n",
    "tau = 10\n",
    "T = 2\n",
    "eps = 1e-6\n",
    "m = 12"
   ]
  },
  {
   "cell_type": "code",
   "execution_count": null,
   "id": "d02996d2",
   "metadata": {},
   "outputs": [],
   "source": [
    "starting_point = None\n",
    "f = lambda x: data_creation_function_KS(time_steps=2, dt=dt, starting_point=x)[-1]\n",
    "\n",
    "\n",
    "lyapunov_exp, lyapunov_exp_convergence = rescomp.measures.iterator_based_lyapunov_spectrum(f, starting_point, T=T, \n",
    "                                                                                           tau=tau,\n",
    "                                                  eps=eps, nr_steps=N, dt=dt, return_convergence=True, nr_of_lyapunovs=m)"
   ]
  },
  {
   "cell_type": "code",
   "execution_count": null,
   "id": "21c27619",
   "metadata": {},
   "outputs": [],
   "source": [
    "print(lyapunov_exp)\n",
    "plt.figure(figsize=(10,5))\n",
    "for iteration in lyapunov_exp_convergence.T:\n",
    "    plt.plot(iteration[20:])\n",
    "plt.grid()"
   ]
  },
  {
   "cell_type": "code",
   "execution_count": null,
   "id": "7a212cca",
   "metadata": {},
   "outputs": [],
   "source": [
    "for i, x in enumerate(lyapunov_exp):\n",
    "    print(i+1, x.round(3))"
   ]
  },
  {
   "cell_type": "code",
   "execution_count": null,
   "id": "690da4d4",
   "metadata": {},
   "outputs": [],
   "source": [
    "lyapunov_exponents = lyapunov_exp\n",
    "\n",
    "lyapunov_sorted = np.sort(lyapunov_exponents)[::-1] # ascending order \n",
    "cumsum = lyapunov_sorted.cumsum()\n",
    "j = np.where((cumsum>=0))[0].max() + 1 # +1 since index starts from 0\n",
    "\n",
    "D_KY = j + cumsum[j-1]/np.abs(lyapunov_sorted[j])\n",
    "print(D_KY)"
   ]
  },
  {
   "cell_type": "code",
   "execution_count": null,
   "id": "01a3e8b1",
   "metadata": {},
   "outputs": [],
   "source": []
  }
 ],
 "metadata": {
  "hide_input": false,
  "kernelspec": {
   "display_name": "PyCharm (rescomp)",
   "language": "python",
   "name": "pycharm-34eaf08f"
  },
  "language_info": {
   "codemirror_mode": {
    "name": "ipython",
    "version": 3
   },
   "file_extension": ".py",
   "mimetype": "text/x-python",
   "name": "python",
   "nbconvert_exporter": "python",
   "pygments_lexer": "ipython3",
   "version": "3.7.5"
  }
 },
 "nbformat": 4,
 "nbformat_minor": 5
}
