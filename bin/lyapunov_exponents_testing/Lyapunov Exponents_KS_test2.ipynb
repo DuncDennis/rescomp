{
 "cells": [
  {
   "cell_type": "code",
   "execution_count": 1,
   "id": "a95b6a16",
   "metadata": {},
   "outputs": [],
   "source": [
    "%load_ext autoreload\n",
    "%autoreload 2\n",
    "\n",
    "import numpy as np\n",
    "import rescomp\n",
    "\n",
    "import matplotlib.pyplot as plt\n",
    "# import pyfftw"
   ]
  },
  {
   "cell_type": "code",
   "execution_count": 2,
   "id": "afee5fba",
   "metadata": {},
   "outputs": [
    {
     "data": {
      "text/plain": [
       "'C:\\\\Users\\\\Dennis\\\\anaconda3\\\\envs\\\\rc_env_np16p6\\\\python.exe'"
      ]
     },
     "execution_count": 2,
     "metadata": {},
     "output_type": "execute_result"
    }
   ],
   "source": [
    "import sys\n",
    "sys.executable"
   ]
  },
  {
   "cell_type": "markdown",
   "id": "3a1edd73",
   "metadata": {},
   "source": [
    "# Check the LE spectrum for different KS Simulations:"
   ]
  },
  {
   "cell_type": "code",
   "execution_count": 3,
   "id": "d157f774",
   "metadata": {},
   "outputs": [],
   "source": [
    "def create_ks_sim_func(fft_type, prec, dimensions, system_size, mode=\"normal\"):\n",
    "    if mode == \"precision\":\n",
    "        def data_creation_function(time_steps, dt, starting_point=None):\n",
    "            return rescomp.simulations._kuramoto_sivashinsky_custom(dimensions, system_size, dt, time_steps, starting_point,\n",
    "                                     precision=prec, fft_type=fft_type)\n",
    "    elif mode == \"Bhatt\":\n",
    "        def data_creation_function(time_steps, dt, starting_point=None):\n",
    "            return rescomp.simulations._kuramoto_sivashinsky_Bhatt(dimensions, system_size, dt, time_steps, starting_point)\n",
    "    elif mode == \"normal\":\n",
    "        def data_creation_function(time_steps, dt, starting_point=None):\n",
    "            return rescomp.simulations._kuramoto_sivashinsky(dimensions, system_size, dt, time_steps, starting_point)\n",
    "    \n",
    "    return data_creation_function\n",
    "\n",
    "# Create different KS Sim functions:\n",
    "def create_ks_sim_dict(dimensions, system_size):\n",
    "    ks_sim_dict = {\n",
    "                   \"scipy32\": create_ks_sim_func(\"scipy\", 32, dimensions, system_size, mode=\"precision\"), \n",
    "                   \"scipy64\": create_ks_sim_func(\"scipy\", 64, dimensions, system_size, mode=\"precision\"), \n",
    "                   \"scipy\": create_ks_sim_func(\"scipy\",None, dimensions, system_size, mode=\"precision\"),\n",
    "                   \"numpy32\": create_ks_sim_func(\"numpy\",32, dimensions, system_size, mode=\"precision\"), \n",
    "                   \"numpy64\": create_ks_sim_func(\"numpy\",64, dimensions, system_size, mode=\"precision\"),\n",
    "                   \"numpy\": create_ks_sim_func(\"numpy\",None, dimensions, system_size, mode=\"precision\"),\n",
    "                   \"normal\": create_ks_sim_func(None, None, dimensions, system_size, mode=\"normal\"), \n",
    "                   \"Bhatt\": create_ks_sim_func(None, None, dimensions, system_size, mode=\"Bhatt\")}\n",
    "    return ks_sim_dict"
   ]
  },
  {
   "cell_type": "code",
   "execution_count": 4,
   "id": "9d513535",
   "metadata": {},
   "outputs": [],
   "source": [
    "# (2019) Edson, Bunder et al.\n",
    "LE_literature_dict = {12: [0.003, -0.005, -0.088, -0.089, -0.186, -3.524, -3.525, -9.835, -9.849, -9.959, -10.01, -10.12], \n",
    "                     13.5: [0.059, 0.004, -0.004, -0.227, -0.730, -1.467, -1.529, -6.956, -6.963, -7.977, -7.993, -9.199],\n",
    "                     22: [0.043, 0.003, 0.002, -0.004, -0.008, -0.185, -0.253, -0.296, -0.309, -1.965, -1.967, -5.599], \n",
    "                     36: [0.080, 0.056, 0.014, 0.003, -0.003, -0.004, -0.021, -0.088, -0.160, -0.224, -0.309, -0.373], \n",
    "                     60: [0.089, 0.067, 0.055, 0.041, 0.030, 0.005, 0.003, 0.000, -0.004, -0.009, -0.029, -0.066],\n",
    "                     100: [0.088, 0.082, 0.070, 0.061, 0.048, 0.041, 0.033, 0.028, 0.018, 0.012, 0.005, 0.003]}"
   ]
  },
  {
   "cell_type": "markdown",
   "id": "ef94fb82",
   "metadata": {},
   "source": [
    "### 1. Check the trajectories for different KS simulations:"
   ]
  },
  {
   "cell_type": "code",
   "execution_count": null,
   "id": "3a19da2c",
   "metadata": {},
   "outputs": [],
   "source": [
    "dt = 0.25\n",
    "system_size = 36 # 12, 13.5, 22, 36, 60, 100\n",
    "ratio_dim_to_L = 1.5\n",
    "dimensions = int(system_size*ratio_dim_to_L)\n",
    "if dimensions%2 == 1: # for the fft KS sims, the dimension has to be even\n",
    "    dimensions += 1 \n",
    "print(f\"dimensions={dimensions}\")\n",
    "\n",
    "time = 1000\n",
    "time_steps = int(time/dt)\n",
    "KS_sims = [\"normal\", \"Bhatt\", \"scipy\", \"scipy32\", \"scipy64\", \"numpy\", \"numpy32\", \"numpy64\"]\n",
    "np.random.seed(1)\n",
    "starting_point = np.random.randn(dimensions)\n",
    "\n",
    "ks_sim_dict = create_ks_sim_dict(dimensions, system_size)"
   ]
  },
  {
   "cell_type": "code",
   "execution_count": null,
   "id": "6ee559ae",
   "metadata": {},
   "outputs": [],
   "source": [
    "results_traj = {}\n",
    "for key in KS_sims:\n",
    "    data_creation_function = ks_sim_dict[key]\n",
    "    results = data_creation_function(time_steps, dt, starting_point=starting_point)\n",
    "    results_traj[key] = results"
   ]
  },
  {
   "cell_type": "code",
   "execution_count": null,
   "id": "939a6f78",
   "metadata": {},
   "outputs": [],
   "source": [
    "# PLOTTING\n",
    "fig, axs = plt.subplots(len(results_traj), 1, figsize=(15,4*len(results_traj)), sharex=True)\n",
    "plt.suptitle(f\"KS sim trajectories, PARAMS: dim={dimensions}, L={system_size}, dt={dt}, time={time}\"\n",
    "             , y = 0.91)\n",
    "i = 0\n",
    "for key, res in results_traj.items():\n",
    "    try:\n",
    "        ax = axs[i]\n",
    "    except:\n",
    "        ax = axs\n",
    "    ax.set_title(key)\n",
    "    ax.imshow(res.T, aspect=\"auto\")\n",
    "    \n",
    "    i+=1\n",
    "ax.set_xlabel(\"time_steps\")"
   ]
  },
  {
   "cell_type": "markdown",
   "id": "5a8fc214",
   "metadata": {},
   "source": [
    "### 2. Check development trajectories for one Parameter set: "
   ]
  },
  {
   "cell_type": "code",
   "execution_count": null,
   "id": "6f7d4c98",
   "metadata": {},
   "outputs": [],
   "source": [
    "np.random.seed(1)\n",
    "\n",
    "# PARAMETERS\n",
    "dt = 0.25\n",
    "N = 100\n",
    "tau = 100\n",
    "T = 2\n",
    "eps = 1e-6\n",
    "m = 5\n",
    "system_size = 36 # 12, 13.5, 22, 36, 60, 100\n",
    "\n",
    "ratio_dim_to_L = 1.5\n",
    "dimensions = int(system_size*ratio_dim_to_L)\n",
    "if dimensions%2 == 1: # for the fft KS sims, the dimension has to be even\n",
    "    dimensions += 1 \n",
    "print(f\"dimensions={dimensions}\")\n",
    "\n",
    "# dimensions = 39\n",
    "N_ens = 3\n",
    "\n",
    "KS_sims = [\"normal\", \"Bhatt\", \"scipy\", \"scipy32\", \"scipy64\", \"numpy\", \"numpy32\", \"numpy64\"]\n",
    "# KS_sims = [\"normal\", \"Bhatt\", \"scipy32\"]\n",
    "# KS_sims = [\"Bhatt\", ]\n",
    "\n",
    "\n",
    "starting_points = np.random.randn(N_ens, dimensions)\n",
    "\n",
    "# LITERATURE VALUES:\n",
    "# lyapunov_exp_literature = [0.08, 0.056, 0.014, 0.003, -0.003, -0.004, -0.021, -0.088, -0.160, -0.224, -0.309, -0.373]\n",
    "lyapunov_exp_literature = LE_literature_dict[system_size]"
   ]
  },
  {
   "cell_type": "code",
   "execution_count": null,
   "id": "6c85d26d",
   "metadata": {},
   "outputs": [],
   "source": [
    "results_LE_dev = {}\n",
    "ks_sim_dict = create_ks_sim_dict(dimensions, system_size)\n",
    "for key in KS_sims:\n",
    "    data_creation_function = ks_sim_dict[key]\n",
    "    print(f\"ks sim type: {key}\")\n",
    "    results = np.zeros((N_ens, N, m))\n",
    "    for i in range(N_ens):\n",
    "        starting_point = starting_points[i, :]\n",
    "        def f(x):\n",
    "            return data_creation_function(time_steps=2, dt=dt, starting_point=x)[-1]\n",
    "        out = rescomp.measures.iterator_based_lyapunov_spectrum(f, starting_point=starting_point, \n",
    "                                                                T=T, tau=tau, eps=eps, \n",
    "                                                                nr_steps=N, dt=dt, return_convergence=True, \n",
    "                                                                nr_of_lyapunovs=m)\n",
    "        results[i, :, :] = out[1]\n",
    "        results_LE_dev[key] = results"
   ]
  },
  {
   "cell_type": "code",
   "execution_count": null,
   "id": "92e5b3f1",
   "metadata": {
    "scrolled": false
   },
   "outputs": [],
   "source": [
    "# PLOTTING\n",
    "fig, axs = plt.subplots(len(results_LE_dev), 1, figsize=(15,4*len(results_LE_dev)), sharex=True)\n",
    "plt.suptitle(f\"KS: LE development. PARAMS: N_ens={N_ens}, N={N}, eps={eps}, tau={tau}, dim={dimensions}, L={system_size}, dt={dt}, T={T}\"\n",
    "             , y = 0.91)\n",
    "i = 0\n",
    "for key, res in results_LE_dev.items():\n",
    "    try:\n",
    "        ax = axs[i]\n",
    "    except:\n",
    "        ax = axs\n",
    "    ax.set_title(key)\n",
    "    ax.grid()\n",
    "    avg = res.mean(axis=0)\n",
    "    error = res.std(axis=0)\n",
    "    for dim in range(m):\n",
    "        ax.errorbar(x=np.arange(N), y=avg[:, dim], yerr=error[:, dim])\n",
    "    for j, y in enumerate(lyapunov_exp_literature):\n",
    "        if j == 0:\n",
    "            ax.axhline(y, c=\"r\", linestyle=\":\", label=\"literature\")\n",
    "        else:\n",
    "            ax.axhline(y, c=\"r\", linestyle=\":\")\n",
    "        if j+1 == m:\n",
    "            break\n",
    "    ax.set_ylim(-0.7, 0.7)\n",
    "    i+=1\n",
    "ax.set_xlabel(\"iterations of QR algorithm\")"
   ]
  },
  {
   "cell_type": "markdown",
   "id": "bd0eb30c",
   "metadata": {},
   "source": [
    "# 2. Parameter sweep:\n"
   ]
  },
  {
   "cell_type": "markdown",
   "id": "0dc330d4",
   "metadata": {},
   "source": [
    "### version 2 (automatically save figs)"
   ]
  },
  {
   "cell_type": "code",
   "execution_count": null,
   "id": "9671364d",
   "metadata": {},
   "outputs": [],
   "source": [
    "# Hypersweep:\n",
    "taus = [100, 10000]\n",
    "system_sizes = [12, 13.5, 22, 36, 60, 100]\n",
    "\n",
    "# PARAMETERS\n",
    "\n",
    "N = 100\n",
    "eps = 1e-6\n",
    "m = 5\n",
    "ratio_dim_to_L = 1.5\n",
    "N_ens = 3\n",
    "\n",
    "# SWEEP\n",
    "Ts = [1, 2, 5, 8]\n",
    "dts= [0.1, 0.25]\n",
    "KS_sims = [\"normal\", \"Bhatt\"]\n",
    "\n",
    "# ############### testing\n",
    "# # Hypersweep:\n",
    "# taus = [10, 20]\n",
    "# system_sizes = [12, 13.5, 22, 36, 60, 100]\n",
    "\n",
    "# np.random.seed(1)\n",
    "\n",
    "# # PARAMETERS\n",
    "\n",
    "# N = 2\n",
    "# eps = 1e-6\n",
    "# m = 5\n",
    "# ratio_dim_to_L = 1.5\n",
    "# N_ens = 1\n",
    "\n",
    "# # SWEEP\n",
    "# Ts = [1, 2]\n",
    "# dts= [0.25, 0.5]\n",
    "# KS_sims = [\"normal\", \"Bhatt\"]\n",
    "# ################ end testing"
   ]
  },
  {
   "cell_type": "code",
   "execution_count": null,
   "id": "2a6c869d",
   "metadata": {},
   "outputs": [],
   "source": [
    "for i_sys, system_size in enumerate(system_sizes):\n",
    "    print(f\"system_size={system_size}\")\n",
    "    for i_tau, tau in enumerate(taus):\n",
    "        print(f\"tau={tau}\")\n",
    "        np.random.seed(1)\n",
    "        \n",
    "        lyapunov_exp_literature = LE_literature_dict[system_size]\n",
    "        \n",
    "        dimensions = int(system_size*ratio_dim_to_L)\n",
    "        if dimensions%2 == 1: # for the fft KS sims, the dimension has to be even\n",
    "            dimensions += 1 \n",
    "        print(f\"dimensions={dimensions}\")\n",
    "        \n",
    "        starting_points = np.random.randn(N_ens, dimensions)\n",
    "        \n",
    "        ks_sim_dict = create_ks_sim_dict(dimensions, system_size)\n",
    "        \n",
    "        # calculation:\n",
    "        results = np.zeros((N_ens, len(KS_sims), len(dts), len(Ts), m))\n",
    "\n",
    "        for i_KS, KS_sim in enumerate(KS_sims):\n",
    "            print(f\"KS_sim: {KS_sim}\")\n",
    "\n",
    "            data_creation_function = ks_sim_dict[KS_sim]\n",
    "\n",
    "            for i_dt, dt in enumerate(dts):\n",
    "                print(f\"dt: {dt}\")\n",
    "\n",
    "                def f(x):\n",
    "                    return data_creation_function(time_steps=2, dt=dt, starting_point=x)[-1]\n",
    "\n",
    "                for i_T, T in enumerate(Ts):\n",
    "                    # print(f\"T: {T}\")\n",
    "\n",
    "                    for i_st, starting_point in enumerate(starting_points):\n",
    "                        lyaps = rescomp.measures.iterator_based_lyapunov_spectrum(f, \n",
    "                                                                     starting_point, \n",
    "                                                                     T=T, \n",
    "                                                                     tau=tau,\n",
    "                                                                     eps=eps, \n",
    "                                                                     nr_steps=N, \n",
    "                                                                     dt=dt, \n",
    "                                                                     return_convergence=False,\n",
    "                                                                     nr_of_lyapunovs=m,\n",
    "                                                                     jacobian=None)\n",
    "                        results[i_st, i_KS, i_dt, i_T, :] = lyaps\n",
    "        \n",
    "        # plotting:\n",
    "#         y_lim = (-0.6, 0.6)\n",
    "        y_lim = (min(lyapunov_exp_literature[:m]) - 0.1, max(lyapunov_exp_literature[:m]) + 0.1)\n",
    "\n",
    "        fig, axs = plt.subplots(len(dts), len(KS_sims), figsize=(30,15), sharex=True)\n",
    "        plt.suptitle(f\"KS: LE vs. time period T. PARAMS: N_ens={N_ens}, N={N}, eps={eps}, tau={tau}, m={m}, dim={dimensions}, L={system_size}\"\n",
    "                     , y = 0.92)\n",
    "\n",
    "        for i_ks, ks_sim in enumerate(KS_sims):\n",
    "            for i_dt, dt in enumerate(dts):\n",
    "                ax = axs[i_dt, i_ks]\n",
    "\n",
    "                mean = results[:, i_ks, i_dt, :, :].mean(axis=0)\n",
    "                std = results[:, i_ks, i_dt, :, :].std(axis=0)\n",
    "                for i in range(m):\n",
    "                    ax.errorbar(x=Ts, y=mean[:, i], yerr=std[:, i], fmt=\"-x\")\n",
    "                ax.set_xticks(Ts)\n",
    "                ax.set_title(f\"KS: {ks_sim}, dt = {dt}\")\n",
    "                ax.grid()\n",
    "                ax.set_ylim(*y_lim)\n",
    "                for i, y in enumerate(lyapunov_exp_literature):\n",
    "                    if i == 0:\n",
    "                        ax.axhline(y, c=\"r\", linestyle=\":\", label=\"literature\")\n",
    "                    else:\n",
    "                        ax.axhline(y, c=\"r\", linestyle=\":\")\n",
    "                    if i+1 == m:\n",
    "                        break\n",
    "            ax.set_xlabel(\"T\")\n",
    "        \n",
    "        plt.savefig(f\"L_{system_size}_tau_{tau}.png\")"
   ]
  },
  {
   "cell_type": "markdown",
   "id": "6c07fc37",
   "metadata": {},
   "source": [
    "### version 1 (just plot)"
   ]
  },
  {
   "cell_type": "code",
   "execution_count": null,
   "id": "45706525",
   "metadata": {},
   "outputs": [],
   "source": [
    "np.random.seed(1)\n",
    "\n",
    "# PARAMETERS\n",
    "N = 100\n",
    "tau = 100\n",
    "eps = 0.1# 1e-3\n",
    "m = 5\n",
    "system_size = 36\n",
    "ratio_dim_to_L = 2.0 #1.5\n",
    "dimensions = int(system_size*ratio_dim_to_L)\n",
    "if dimensions%2 == 1: # for the fft KS sims, the dimension has to be even\n",
    "    dimensions += 1 \n",
    "print(f\"dimensions={dimensions}\")\n",
    "N_ens = 3\n",
    "\n",
    "# SWEEP\n",
    "Ts = [1, 2, 5]\n",
    "dts= [0.25]\n",
    "\n",
    "KS_sims = [\"normal\", \"Bhatt\"]\n",
    "# KS_sims = [\"normal\", \"Bhatt\", \"scipy32\", \"scipy64\", \"numpy32\", \"numpy64\"]\n",
    "starting_points = np.random.randn(N_ens, dimensions)\n",
    "\n",
    "# LITERATURE VALUES:\n",
    "lyapunov_exp_literature = LE_literature_dict[system_size]"
   ]
  },
  {
   "cell_type": "code",
   "execution_count": null,
   "id": "872c9e4c",
   "metadata": {},
   "outputs": [],
   "source": [
    "ks_sim_dict = create_ks_sim_dict(dimensions, system_size)\n",
    "\n",
    "results = np.zeros((N_ens, len(KS_sims), len(dts), len(Ts), m))\n",
    "\n",
    "for i_KS, KS_sim in enumerate(KS_sims):\n",
    "    print(f\"KS_sim: {KS_sim}\")\n",
    "    \n",
    "    data_creation_function = ks_sim_dict[KS_sim]\n",
    "\n",
    "    for i_dt, dt in enumerate(dts):\n",
    "        print(f\"dt: {dt}\")\n",
    "        \n",
    "        def f(x):\n",
    "            return data_creation_function(time_steps=2, dt=dt, starting_point=x)[-1]\n",
    "        \n",
    "        for i_T, T in enumerate(Ts):\n",
    "            print(f\"T: {T}\")\n",
    "            \n",
    "            for i_st, starting_point in enumerate(starting_points):\n",
    "                lyaps = rescomp.measures.iterator_based_lyapunov_spectrum(f, \n",
    "                                                             starting_point, \n",
    "                                                             T=T, \n",
    "                                                             tau=tau,\n",
    "                                                             eps=eps, \n",
    "                                                             nr_steps=N, \n",
    "                                                             dt=dt, \n",
    "                                                             return_convergence=False,\n",
    "                                                             nr_of_lyapunovs=m,\n",
    "                                                             jacobian=None)\n",
    "                results[i_st, i_KS, i_dt, i_T, :] = lyaps"
   ]
  },
  {
   "cell_type": "code",
   "execution_count": null,
   "id": "40d0e2bb",
   "metadata": {},
   "outputs": [],
   "source": [
    "# PLOTTING\n",
    "\n",
    "y_lim = (-0.2, 0.2)\n",
    "\n",
    "fig, axs = plt.subplots(len(dts), len(KS_sims), figsize=(10,4), sharex=True)\n",
    "plt.suptitle(f\"KS: LE vs. time period T. PARAMS: N_ens={N_ens}, N={N}, eps={eps}, tau={tau}, m={m}, dim={dimensions}, L={system_size}\"\n",
    "             , y = 1.0)\n",
    "\n",
    "for i_ks, ks_sim in enumerate(KS_sims):\n",
    "    for i_dt, dt in enumerate(dts):\n",
    "        if len(dts) == 1:\n",
    "            if len(KS_sims) == 1:\n",
    "                ax = axs\n",
    "            else:\n",
    "                ax = axs[i_ks]\n",
    "        else:\n",
    "            if len(KS_sims) == 1:\n",
    "                ax = axs[i_dt]\n",
    "            else:\n",
    "                ax = axs[i_dt, i_ks]\n",
    "        # ax = axs[i_dt, i_ks]\n",
    "        mean = results[:, i_ks, i_dt, :, :].mean(axis=0)\n",
    "        std = results[:, i_ks, i_dt, :, :].std(axis=0)\n",
    "        for i in range(m):\n",
    "            ax.errorbar(x=Ts, y=mean[:, i], yerr=std[:, i], fmt=\"-x\")\n",
    "        ax.set_xticks(Ts)\n",
    "        ax.set_title(f\"KS: {ks_sim}, dt = {dt}\")\n",
    "        ax.grid()\n",
    "        ax.set_ylim(*y_lim)\n",
    "        for i, y in enumerate(lyapunov_exp_literature):\n",
    "            if i == 0:\n",
    "                ax.axhline(y, c=\"r\", linestyle=\":\", label=\"literature\")\n",
    "            else:\n",
    "                ax.axhline(y, c=\"r\", linestyle=\":\")\n",
    "            if i+1 == m:\n",
    "                break\n",
    "    ax.set_xlabel(\"T\")"
   ]
  },
  {
   "cell_type": "markdown",
   "id": "59bfa6ef",
   "metadata": {},
   "source": [
    "# 3. largest LE algorithmus comparison:"
   ]
  },
  {
   "cell_type": "code",
   "execution_count": 72,
   "id": "cec8736b",
   "metadata": {},
   "outputs": [],
   "source": [
    "## simple LE Algorithm:\n",
    "def largest_LE_simple(f, starting_points, T=1, tau=0, dt=1., eps=1e-6, N_dims=1):\n",
    "    def f_steps(x, steps):\n",
    "        for i in range(steps):\n",
    "            x = f(x)\n",
    "        return x\n",
    "    \n",
    "    tau_timesteps = int(tau/dt)\n",
    "    T_timesteps = int(T/dt) # this is the number of timesteps to simulate (it does not include the initial condition)\n",
    "    # update to actual times:\n",
    "    tau = tau_timesteps*dt\n",
    "    T = T_timesteps*dt\n",
    "    print(f\"tau = {tau}\")\n",
    "    print(f\"T = {T}\")\n",
    "    \n",
    "    if starting_points is not None:\n",
    "        if len(starting_points.shape) == 2:\n",
    "            N_ens = starting_points.shape[0]\n",
    "        else:\n",
    "            starting_points = starting_points[np.newaxis, :]\n",
    "            N_ens = 1\n",
    "        state_dim = starting_points[0, :].size\n",
    "    else:\n",
    "        state_dim = f(starting_points, 1).size\n",
    "        N_ens = 1\n",
    "    if N_dims is None: \n",
    "        N_dims = state_dim\n",
    "    else:\n",
    "        if N_dims > state_dim:\n",
    "            raise Exception(f\"N_dims larger than state-dimension: {N_dims} vs. {state_dim}\")\n",
    "    \n",
    "    deviation_trajectory_ens = np.zeros((T_timesteps + 1, state_dim, N_dims, N_ens))\n",
    "    for i_ens in range(N_ens):\n",
    "        print(f\"N_ens: {i_ens+1}/{N_ens}\")\n",
    "        if starting_points is not None:\n",
    "            starting_point = starting_points[i_ens, :]\n",
    "        if tau_timesteps == 0:\n",
    "            x = starting_point\n",
    "        else:\n",
    "            print(\"..calculating transient..\")\n",
    "            x = f_steps(starting_point, tau_timesteps)  # discard transient states\n",
    "\n",
    "\n",
    "        initial_deviations = np.eye(state_dim, N_dims)*eps\n",
    "\n",
    "        basis_trajectory = np.zeros((T_timesteps + 1, state_dim))\n",
    "        basis_trajectory[0, :] = x\n",
    "\n",
    "        perturbed_trajectory = np.zeros((T_timesteps + 1, state_dim, N_dims))\n",
    "        for i in range(N_dims):\n",
    "            perturbed_trajectory[0, :, i] = x + initial_deviations[:, i]\n",
    "\n",
    "        for i_t in range(1, T_timesteps+1):\n",
    "            if (i_t)%10 == 0:\n",
    "                print(f\"timestep {i_t}/{T_timesteps}\", end=\"\\r\")\n",
    "            x = f(x)\n",
    "            basis_trajectory[i_t, :] = x\n",
    "\n",
    "            for i in range(N_dims):\n",
    "                perturbed_trajectory[i_t, :, i] = f(perturbed_trajectory[i_t-1, :, i])\n",
    "        print(\"\")\n",
    "        deviation_trajectory = perturbed_trajectory - np.repeat(basis_trajectory[:, :, np.newaxis], N_dims, axis=2)\n",
    "        deviation_trajectory_ens[:, :, :, i_ens] = deviation_trajectory\n",
    "\n",
    "    deviation_len_traj_ens = np.linalg.norm(deviation_trajectory_ens, axis=1)\n",
    "    out_mean = np.mean(deviation_len_traj_ens, axis=(-1, -2))\n",
    "    out_std = np.std(deviation_len_traj_ens, axis=(-1, -2))\n",
    "    return out_mean, out_std"
   ]
  },
  {
   "cell_type": "code",
   "execution_count": 221,
   "id": "5de850d6",
   "metadata": {},
   "outputs": [
    {
     "name": "stdout",
     "output_type": "stream",
     "text": [
      "dimensions=54\n"
     ]
    }
   ],
   "source": [
    "# PARAMETERS\n",
    "dt = 0.25\n",
    "tau = 100\n",
    "T = 100\n",
    "eps = 1e-6\n",
    "system_size = 36 # 12, 13.5, 22, 36, 60, 100\n",
    "ratio_dim_to_L = 1.5\n",
    "dimensions = int(system_size*ratio_dim_to_L)\n",
    "if dimensions%2 == 1: # for the fft KS sims, the dimension has to be even\n",
    "    dimensions += 1 \n",
    "print(f\"dimensions={dimensions}\")\n",
    "\n",
    "N_ens = 10\n",
    "np.random.seed(500)\n",
    "starting_points = np.random.randn(N_ens, dimensions)\n",
    "\n",
    "# simple algo:\n",
    "N_dims = 1\n",
    "\n",
    "# QR algo\n",
    "m = 1\n",
    "N = 1\n",
    "\n",
    "# LITERATURE VALUES:\n",
    "lyapunov_exp_literature = LE_literature_dict[system_size]\n",
    "\n",
    "key = \"numpy32\""
   ]
  },
  {
   "cell_type": "code",
   "execution_count": 222,
   "id": "408e89ef",
   "metadata": {},
   "outputs": [],
   "source": [
    "ks_sim_dict = create_ks_sim_dict(dimensions, system_size)\n",
    "data_creation_function = ks_sim_dict[key]\n",
    "def f(x):\n",
    "    return data_creation_function(time_steps=2, dt=dt, starting_point=x)[-1]"
   ]
  },
  {
   "cell_type": "markdown",
   "id": "651b0299",
   "metadata": {},
   "source": [
    "##### simple algo:"
   ]
  },
  {
   "cell_type": "code",
   "execution_count": 223,
   "id": "37970cf8",
   "metadata": {},
   "outputs": [
    {
     "name": "stdout",
     "output_type": "stream",
     "text": [
      "N_ens: 1/10\n",
      "..calculating transient..\n",
      "timestep 400/400\n",
      "N_ens: 2/10\n",
      "..calculating transient..\n",
      "timestep 400/400\n",
      "N_ens: 3/10\n",
      "..calculating transient..\n",
      "timestep 400/400\n",
      "N_ens: 4/10\n",
      "..calculating transient..\n",
      "timestep 400/400\n",
      "N_ens: 5/10\n",
      "..calculating transient..\n",
      "timestep 400/400\n",
      "N_ens: 6/10\n",
      "..calculating transient..\n",
      "timestep 400/400\n",
      "N_ens: 7/10\n",
      "..calculating transient..\n",
      "timestep 400/400\n",
      "N_ens: 8/10\n",
      "..calculating transient..\n",
      "timestep 400/400\n",
      "N_ens: 9/10\n",
      "..calculating transient..\n",
      "timestep 400/400\n",
      "N_ens: 10/10\n",
      "..calculating transient..\n",
      "timestep 400/400\n"
     ]
    }
   ],
   "source": [
    "out = rescomp.measures.largest_LE_simple(f, starting_points=starting_points, T=T, \n",
    "                                         tau=tau, dt=dt, eps=eps, N_dims=N_dims)"
   ]
  },
  {
   "cell_type": "code",
   "execution_count": 226,
   "id": "efaba36e",
   "metadata": {},
   "outputs": [
    {
     "data": {
      "text/plain": [
       "<matplotlib.legend.Legend at 0x29877128c88>"
      ]
     },
     "execution_count": 226,
     "metadata": {},
     "output_type": "execute_result"
    },
    {
     "data": {
      "image/png": "[encoded data removed]",
      "text/plain": [
       "<Figure size 1080x720 with 1 Axes>"
      ]
     },
     "metadata": {
      "needs_background": "light"
     },
     "output_type": "display_data"
    }
   ],
   "source": [
    "show_error = False\n",
    "\n",
    "t_min_ax = 0\n",
    "t_max_ax = T\n",
    "\n",
    "# Data:\n",
    "Ts = dt*np.arange(len(out[0]))\n",
    "log_dist = np.log(out[0])\n",
    "log_dist_std = np.log(out[1])\n",
    "\n",
    "# FIT:\n",
    "t_min = 10\n",
    "t_max = 60 # 80\n",
    "i_min, i_max = int(t_min/dt), int(t_max/dt)\n",
    "y = log_dist[i_min: i_max+1]\n",
    "x = np.arange(i_min, i_max+1)*dt\n",
    "coef = np.polyfit(x,y,1)\n",
    "poly1d_fn = np.poly1d(coef)\n",
    "\n",
    "\n",
    "# Purposely wrong fit:\n",
    "sloap = (log_dist[i_max] - log_dist[i_min])/(t_max - t_min)\n",
    "intercept = log_dist[0]\n",
    "poly1d_fn_qr = np.poly1d((sloap, intercept))\n",
    "\n",
    "\n",
    "# Plotting: \n",
    "plt.figure(figsize=(15,10))\n",
    "plt.title(f\"KS={key}, N_ens={N_ens}, eps={eps}, tau={tau}, dim={dimensions}, L={system_size}, dt={dt}, T={T}\")\n",
    "if show_error:\n",
    "    plt.errorbar(Ts, log_dist, yerr = log_dist_std, label=r\"$\\ln(d)=ln(d_0) + \\lambda t$\", ecolor=\"orange\")\n",
    "else:\n",
    "    plt.plot(Ts, log_dist, label=r\"$\\ln(d)=ln(d_0) + \\lambda t$\")\n",
    "plt.plot(x, poly1d_fn(x), '--k', label=f\"linear fit: {coef[0].round(5)}\")\n",
    "plt.plot(x, poly1d_fn_qr(x), \"--r\", label=f\"first-last: {sloap.round(5)}\")\n",
    "plt.xlim(t_min_ax, t_max_ax)\n",
    "# plt.ylim(-16, -10)\n",
    "plt.grid()\n",
    "plt.legend()"
   ]
  },
  {
   "cell_type": "markdown",
   "id": "2f871645",
   "metadata": {},
   "source": [
    "##### iterator based Largest LE"
   ]
  },
  {
   "cell_type": "code",
   "execution_count": 185,
   "id": "e210c17d",
   "metadata": {},
   "outputs": [
    {
     "name": "stdout",
     "output_type": "stream",
     "text": [
      "N_ens: 1/10\n",
      "N_ens: 2/10\n",
      "N_ens: 3/10\n",
      "N_ens: 4/10\n",
      "N_ens: 5/10\n",
      "N_ens: 6/10\n",
      "N_ens: 7/10\n",
      "N_ens: 8/10\n",
      "N_ens: 9/10\n",
      "N_ens: 10/10\n"
     ]
    }
   ],
   "source": [
    "out_qr = rescomp.measures.iterator_based_lyapunov_spectrum(f, starting_points=starting_points, \n",
    "                                                                T=T, tau=tau, eps=eps, \n",
    "                                                                nr_steps=N, dt=dt, return_convergence=True, \n",
    "                                                                nr_of_lyapunovs=m, agg=\"mean\")"
   ]
  },
  {
   "cell_type": "code",
   "execution_count": 186,
   "id": "b1bae708",
   "metadata": {},
   "outputs": [
    {
     "name": "stdout",
     "output_type": "stream",
     "text": [
      "[0.65441896]\n"
     ]
    }
   ],
   "source": [
    "print(out_qr[0])"
   ]
  },
  {
   "cell_type": "code",
   "execution_count": 155,
   "id": "6e89a487",
   "metadata": {},
   "outputs": [
    {
     "data": {
      "text/plain": [
       "(1,)"
      ]
     },
     "execution_count": 155,
     "metadata": {},
     "output_type": "execute_result"
    }
   ],
   "source": [
    "out_qr[0].shape"
   ]
  },
  {
   "cell_type": "code",
   "execution_count": 131,
   "id": "3a884633",
   "metadata": {},
   "outputs": [
    {
     "name": "stdout",
     "output_type": "stream",
     "text": [
      "3.7416573867739413\n",
      "-3.7416573867739418\n"
     ]
    }
   ],
   "source": [
    "W = np.zeros((3, 1))\n",
    "W[:, 0] = np.array([1,2,3])\n",
    "print(np.linalg.norm(W))\n",
    "\n",
    "Q, R = np.linalg.qr(W)\n",
    "print(R[0, 0])\n",
    "\n"
   ]
  },
  {
   "cell_type": "markdown",
   "id": "1d440af6",
   "metadata": {},
   "source": [
    "### other: "
   ]
  },
  {
   "cell_type": "code",
   "execution_count": null,
   "id": "045ad187",
   "metadata": {},
   "outputs": [],
   "source": [
    "np.random.seed(1)\n",
    "\n",
    "# PARAMETERS\n",
    "dt = 0.25\n",
    "N = 1000\n",
    "tau = 10000\n",
    "T = 2\n",
    "eps = 1e-12\n",
    "m = 1\n",
    "system_size = 22 # 12, 13.5, 22, 36, 60, 100\n",
    "\n",
    "# ratio_dim_to_L = 1.5\n",
    "# dimensions = int(system_size*ratio_dim_to_L)\n",
    "# if dimensions%2 == 1: # for the fft KS sims, the dimension has to be even\n",
    "#     dimensions += 1 \n",
    "dimensions = 40\n",
    "print(f\"dimensions={dimensions}\")\n",
    "\n",
    "# dimensions = 39\n",
    "N_ens = 1\n",
    "\n",
    "KS_sims = [\"normal\", \"Bhatt\", \"scipy\", \"scipy32\", \"scipy64\", \"numpy\", \"numpy32\", \"numpy64\"]\n",
    "KS_sims = [\"normal\", \"Bhatt\"]\n",
    "# KS_sims = [\"normal\", \"Bhatt\", \"scipy32\"]\n",
    "# KS_sims = [\"Bhatt\", ]\n",
    "\n",
    "starting_points = np.random.randn(N_ens, dimensions)\n",
    "\n",
    "# LITERATURE VALUES:\n",
    "# lyapunov_exp_literature = [0.08, 0.056, 0.014, 0.003, -0.003, -0.004, -0.021, -0.088, -0.160, -0.224, -0.309, -0.373]\n",
    "lyapunov_exp_literature = LE_literature_dict[system_size]"
   ]
  },
  {
   "cell_type": "code",
   "execution_count": null,
   "id": "d5c63218",
   "metadata": {},
   "outputs": [],
   "source": [
    "results_LE_dev = {}\n",
    "ks_sim_dict = create_ks_sim_dict(dimensions, system_size)\n",
    "for key in KS_sims:\n",
    "    data_creation_function = ks_sim_dict[key]\n",
    "    print(f\"ks sim type: {key}\")\n",
    "    results = np.zeros((N_ens, N, m))\n",
    "    for i in range(N_ens):\n",
    "        starting_point = starting_points[i, :]\n",
    "        def f(x):\n",
    "            return data_creation_function(time_steps=2, dt=dt, starting_point=x)[-1]\n",
    "        out = rescomp.measures.iterator_based_lyapunov_spectrum(f, starting_point=starting_point, \n",
    "                                                                T=T, tau=tau, eps=eps, \n",
    "                                                                nr_steps=N, dt=dt, return_convergence=True, \n",
    "                                                                nr_of_lyapunovs=m)\n",
    "        results[i, :, :] = out[1]\n",
    "        results_LE_dev[key] = results"
   ]
  },
  {
   "cell_type": "code",
   "execution_count": null,
   "id": "7cac261e",
   "metadata": {
    "scrolled": true
   },
   "outputs": [],
   "source": [
    "results_LE_dev"
   ]
  },
  {
   "cell_type": "code",
   "execution_count": null,
   "id": "204a895f",
   "metadata": {},
   "outputs": [],
   "source": [
    "# PLOTTING\n",
    "fig, axs = plt.subplots(len(results_LE_dev), 1, figsize=(15,4*len(results_LE_dev)), sharex=True)\n",
    "plt.suptitle(f\"KS: LE development. PARAMS: N_ens={N_ens}, N={N}, eps={eps}, tau={tau}, dim={dimensions}, L={system_size}, dt={dt}, T={T}\"\n",
    "             , y = 0.91)\n",
    "i = 0\n",
    "for key, res in results_LE_dev.items():\n",
    "    try:\n",
    "        ax = axs[i]\n",
    "    except:\n",
    "        ax = axs\n",
    "    ax.set_title(key)\n",
    "    ax.grid()\n",
    "    avg = res.mean(axis=0)\n",
    "    error = res.std(axis=0)\n",
    "    for dim in range(m):\n",
    "        ax.errorbar(x=np.arange(N), y=avg[:, dim], yerr=error[:, dim])\n",
    "    for j, y in enumerate(lyapunov_exp_literature):\n",
    "        if j == 0:\n",
    "            ax.axhline(y, c=\"r\", linestyle=\":\", label=\"literature\")\n",
    "        else:\n",
    "            ax.axhline(y, c=\"r\", linestyle=\":\")\n",
    "        if j+1 == m:\n",
    "            break\n",
    "    ax.set_ylim(-0.7, 0.7)\n",
    "    i+=1\n",
    "    print(key, avg[-1])\n",
    "ax.set_xlabel(\"iterations of QR algorithm\")"
   ]
  },
  {
   "cell_type": "markdown",
   "id": "13354a9e",
   "metadata": {},
   "source": [
    "### older:"
   ]
  },
  {
   "cell_type": "code",
   "execution_count": null,
   "id": "3dcca282",
   "metadata": {},
   "outputs": [],
   "source": [
    "result = np.zeros((N_ens, N, m))\n",
    "\n",
    "np.random.seed(5)\n",
    "for n in range(N_ens):\n",
    "    print(f\"n: {n+1}\")\n",
    "\n",
    "    initial_condition = np.random.randn(dimensions)\n",
    "    data_creation_function_KS = create_ks_sim_func(None, None, dimensions, system_size, mode=\"Bhatt\")\n",
    "\n",
    "    def f(x):\n",
    "        return data_creation_function_KS(time_steps=2, dt=dt, starting_point=x)[-1]\n",
    "\n",
    "    # f = lambda x: data_creation_function_KS(time_steps=2, dt=dt, starting_point=x)[-1]\n",
    "\n",
    "    out = rescomp.measures.iterator_based_lyapunov_spectrum(f, starting_point=initial_condition, T=T, tau=tau, eps=eps, \n",
    "                                              nr_steps=N, dt=dt, return_convergence=True, nr_of_lyapunovs=m)\n",
    "    result[n, :, :] = out[1]"
   ]
  },
  {
   "cell_type": "code",
   "execution_count": null,
   "id": "b8952966",
   "metadata": {
    "scrolled": false
   },
   "outputs": [],
   "source": [
    "plt.figure(figsize=(15,10))\n",
    "\n",
    "plt.title(f\"dt: {dt}, L: {system_size}, dimensions: {dimensions}, N_ens: {N_ens}, T_disc: {tau}, T: {T}, eps: {eps}\")\n",
    "plt.grid()\n",
    "# avg = result.mean(axis=0)\n",
    "error = result.std(axis=0)\n",
    "avg = result[3, :]\n",
    "\n",
    "for dim in range(m):\n",
    "    plt.errorbar(x=np.arange(N), y=avg[:, dim], yerr=error[:, dim])\n",
    "plt.xlabel(\"iterations of QR algorithm\")\n",
    "plt.ylabel(r\"$\\lambda_i$\")\n",
    "plt.axhline(0, c=\"k\", linestyle =\"--\")\n",
    "for i, y in enumerate(lyapunov_exp_literature):\n",
    "    if i == 0:\n",
    "        plt.axhline(y, c=\"r\", linestyle=\":\", label=\"literature\")\n",
    "    else:\n",
    "        plt.axhline(y, c=\"r\", linestyle=\":\")\n",
    "plt.ylim(-0.7, 0.3)\n",
    "plt.legend()"
   ]
  },
  {
   "cell_type": "code",
   "execution_count": null,
   "id": "f16b18ba",
   "metadata": {},
   "outputs": [],
   "source": []
  },
  {
   "cell_type": "markdown",
   "id": "b9f5d62a",
   "metadata": {},
   "source": [
    "### KS System:"
   ]
  },
  {
   "cell_type": "code",
   "execution_count": null,
   "id": "8f23b8ba",
   "metadata": {},
   "outputs": [],
   "source": [
    "# KS system:\n",
    "dimensions = 40\n",
    "system_size = 30\n",
    "def data_creation_function_KS(time_steps, dt, starting_point=None):\n",
    "    sim_data = rescomp.simulate_trajectory(\n",
    "            sys_flag='kuramoto_sivashinsky', dimensions=dimensions, system_size=system_size, dt=dt,\n",
    "            time_steps=time_steps, starting_point = starting_point)\n",
    "    return sim_data\n",
    "\n",
    "def data_creation_function_KS_Bhatt(time_steps, dt, starting_point=None):\n",
    "    sim_data = rescomp.simulations._kuramoto_sivashinsky_Bhatt(dimensions=dimensions, system_size=system_size, dt=dt,\n",
    "                                                    time_steps=time_steps, starting_point=starting_point,\n",
    "                                                    alpha=1, beta=1)\n",
    "    return sim_data"
   ]
  },
  {
   "cell_type": "code",
   "execution_count": null,
   "id": "ceb45e69",
   "metadata": {},
   "outputs": [],
   "source": [
    "dt = 0.1\n",
    "N = 100\n",
    "tau = 5\n",
    "T = 2\n",
    "eps = 1e-6\n",
    "m = 12"
   ]
  },
  {
   "cell_type": "code",
   "execution_count": null,
   "id": "d02996d2",
   "metadata": {},
   "outputs": [],
   "source": [
    "same_starting_point = data_creation_function_KS(time_steps=1, dt=1, starting_point=None)[-1]\n",
    "\n",
    "f1 = lambda x: data_creation_function_KS(time_steps=2, dt=dt, starting_point=x)[-1]\n",
    "f2 = lambda x: data_creation_function_KS_Bhatt(time_steps=2, dt=dt, starting_point=x)[-1]"
   ]
  },
  {
   "cell_type": "code",
   "execution_count": null,
   "id": "937e2927",
   "metadata": {},
   "outputs": [],
   "source": [
    "# original KS Sim:\n",
    "lyapunov_exp, lyapunov_exp_convergence = rescomp.measures.iterator_based_lyapunov_spectrum(f1, \n",
    "                                                                                           starting_point=same_starting_point, \n",
    "                                                                                           T=T, \n",
    "                                                                                           tau=tau,\n",
    "                                                  eps=eps, nr_steps=N, dt=dt, return_convergence=True, nr_of_lyapunovs=m)"
   ]
  },
  {
   "cell_type": "code",
   "execution_count": null,
   "id": "74f20019",
   "metadata": {},
   "outputs": [],
   "source": [
    "# Bhatt KS Sim:\n",
    "lyapunov_exp_B, lyapunov_exp_convergence_B = rescomp.measures.iterator_based_lyapunov_spectrum(f2, \n",
    "                                                                                               starting_point=same_starting_point,\n",
    "                                                                                               T=T, \n",
    "                                                                                           tau=tau,\n",
    "                                                  eps=eps, nr_steps=N, dt=dt, return_convergence=True, nr_of_lyapunovs=m)"
   ]
  },
  {
   "cell_type": "code",
   "execution_count": null,
   "id": "21c27619",
   "metadata": {},
   "outputs": [],
   "source": [
    "print(lyapunov_exp)\n",
    "plt.figure(figsize=(10,5))\n",
    "for iteration in lyapunov_exp_convergence.T:\n",
    "    plt.plot(iteration[20:])\n",
    "plt.grid()"
   ]
  },
  {
   "cell_type": "code",
   "execution_count": null,
   "id": "0e1ebf83",
   "metadata": {},
   "outputs": [],
   "source": [
    "print(lyapunov_exp_B)\n",
    "plt.figure(figsize=(10,5))\n",
    "for iteration in lyapunov_exp_convergence_B.T:\n",
    "    plt.plot(iteration[20:])\n",
    "plt.grid()"
   ]
  },
  {
   "cell_type": "code",
   "execution_count": null,
   "id": "f9afd4a8",
   "metadata": {},
   "outputs": [],
   "source": [
    "delta_exp = lyapunov_exp_B - lyapunov_exp\n",
    "print(delta_exp)\n",
    "plt.figure(figsize=(10,5))\n",
    "for iteration in np.abs(lyapunov_exp_convergence_B - lyapunov_exp_convergence).T:\n",
    "    plt.plot(iteration[20:])\n",
    "plt.grid()"
   ]
  },
  {
   "cell_type": "markdown",
   "id": "15f7a426",
   "metadata": {},
   "source": [
    "# Test _kuramoto_sivashinsky_custom"
   ]
  },
  {
   "cell_type": "code",
   "execution_count": null,
   "id": "9dc3752d",
   "metadata": {},
   "outputs": [],
   "source": [
    "# Sweep:\n",
    "precisions = [128, 64, 32, 16]\n",
    "fft_types = [\"numpy\", \"scipy\", \"pyfftw_np\", \"pyfftw_sc\", \"pyfftw_fftw\"]\n",
    "\n",
    "# Fixed:\n",
    "starting_point=None\n",
    "dimensions = 40\n",
    "system_size = 30\n",
    "\n",
    "# LE-Algo:\n",
    "dt = 0.1\n",
    "N = 100\n",
    "tau = 10\n",
    "T = 5\n",
    "eps = 1e-6\n",
    "m = 12\n",
    "\n",
    "def create_ks_sim_func(fft_type, prec, dimensions, system_size):\n",
    "    def data_creation_function(time_steps, dt, starting_point=None):\n",
    "        return rescomp.simulations._kuramoto_sivashinsky_custom(dimensions, system_size, dt, time_steps, starting_point,\n",
    "                                 precision=prec, fft_type=fft_type)\n",
    "    return data_creation_function\n",
    "                                                        \n",
    "data_creation_functions_dict = {}\n",
    "for prec in precisions:\n",
    "    for fft_type in fft_types:\n",
    "        data_creation_functions_dict[(prec, fft_type)] = create_ks_sim_func(fft_type, prec, dimensions, system_size)"
   ]
  },
  {
   "cell_type": "code",
   "execution_count": null,
   "id": "986c2710",
   "metadata": {},
   "outputs": [],
   "source": [
    "res_dict = {}\n",
    "\n",
    "i = 1\n",
    "for key, func in data_creation_functions_dict.items():\n",
    "    print(i, key)\n",
    "    i+=1\n",
    "    f = lambda x: func(time_steps=2, dt=dt, starting_point=x)[-1]\n",
    "    try:\n",
    "        lyapunov_exp_res = rescomp.measures.iterator_based_lyapunov_spectrum(f, \n",
    "                                                                             starting_point, \n",
    "                                                                             T=T, \n",
    "                                                                             tau=tau,\n",
    "                                                                             eps=eps, \n",
    "                                                                             nr_steps=N, \n",
    "                                                                             dt=dt, \n",
    "                                                                             return_convergence=True,\n",
    "                                                                             nr_of_lyapunovs=m)\n",
    "        res_dict[key] = lyapunov_exp_res\n",
    "    except Exception as e:\n",
    "        print(\"Error: \", e)\n",
    "        res_dict[key] = e\n",
    "    "
   ]
  },
  {
   "cell_type": "code",
   "execution_count": null,
   "id": "81328bb1",
   "metadata": {},
   "outputs": [],
   "source": [
    "plt.figure(figsize=(15,7))\n",
    "\n",
    "for key, val in res_dict.items():\n",
    "    if type(val) == tuple:\n",
    "        largest_le_index = np.argmax(val[0])\n",
    "        largest_le_evol = val[1][:, largest_le_index]\n",
    "        if np.isnan(largest_le_evol).any():\n",
    "            msg = \"nan\"\n",
    "            print(f\"{key}, {msg}\")\n",
    "        plt.plot(largest_le_evol, label=key)\n",
    "    else:\n",
    "        print(f\"{key}, error: {val}\")\n",
    "\n",
    "print(\"____\\n others:\")\n",
    "plt.title(\"Largest Lyapunov exponent, evolution\")\n",
    "plt.xlabel(\"iterations of QR algorithm\")\n",
    "plt.legend()\n",
    "plt.grid()"
   ]
  },
  {
   "cell_type": "markdown",
   "id": "10b30546",
   "metadata": {},
   "source": [
    "# Test _kuramoto_sivashinsky_custom 2"
   ]
  },
  {
   "cell_type": "code",
   "execution_count": null,
   "id": "4e20da0b",
   "metadata": {},
   "outputs": [],
   "source": [
    "def KS_LEs_literature(m, L):\n",
    "    '''\n",
    "    Arxiv: 1902.09651\n",
    "    not sure how good\n",
    "    '''\n",
    "    LEs = np.zeros(m)\n",
    "    for i in range(m):\n",
    "        LEs[i] = 0.093 - 0.94*((i+1)- 0.39)/L\n",
    "    return LEs\n",
    "LEs = KS_LEs_literature(m=12, L=10)\n",
    "\n",
    "plt.grid()\n",
    "plt.axhline(0, c=\"k\", linestyle =\"--\")\n",
    "for y in lyapunov_exp_literature:\n",
    "    plt.axhline(y, c=\"r\", linestyle=\":\")\n",
    "for y in LEs:\n",
    "    plt.axhline(y, c=\"b\", linestyle=\":\")"
   ]
  },
  {
   "cell_type": "code",
   "execution_count": null,
   "id": "21306b4a",
   "metadata": {},
   "outputs": [],
   "source": [
    "# system_size = 36\n",
    "\n",
    "# LE_literature_dict = {12: [0.003, -0]}\n",
    "\n",
    "lyapunov_exp_literature = [0.08, 0.056, 0.014, 0.003, -0.003, -0.004, -0.021, -0.088, -0.160, -0.224, -0.309, -0.373]\n",
    "KY_literature = 8.229\n",
    "\n",
    "dt = 0.25\n",
    "N = 100\n",
    "tau = 2000\n",
    "T = 2\n",
    "eps = 1e-6\n",
    "m = 12\n",
    "system_size = 36\n",
    "dimensions = 60"
   ]
  },
  {
   "cell_type": "code",
   "execution_count": null,
   "id": "bc19dff0",
   "metadata": {},
   "outputs": [],
   "source": [
    "def create_ks_sim_func(fft_type, prec, dimensions, system_size):\n",
    "    def data_creation_function(time_steps, dt, starting_point=None):\n",
    "        return rescomp.simulations._kuramoto_sivashinsky_custom(dimensions, system_size, dt, time_steps, starting_point,\n",
    "                                 precision=prec, fft_type=fft_type)\n",
    "    return data_creation_function"
   ]
  },
  {
   "cell_type": "code",
   "execution_count": null,
   "id": "d6f3298c",
   "metadata": {},
   "outputs": [],
   "source": [
    "data_creation_function_KS = create_ks_sim_func(fft_type=\"scipy\", prec=32, dimensions=dimensions, system_size=system_size)\n",
    "\n",
    "f = lambda x: data_creation_function_KS(time_steps=2, dt=dt, starting_point=x)[-1]\n"
   ]
  },
  {
   "cell_type": "code",
   "execution_count": null,
   "id": "b1f2a3ca",
   "metadata": {},
   "outputs": [],
   "source": [
    "np.random.seed(1)\n",
    "initial_condition = np.random.randn(dimensions)\n",
    "# initial_condition = None\n",
    "\n",
    "out = rescomp.measures.iterator_based_lyapunov_spectrum(f, starting_point=initial_condition, T=T, tau=tau, eps=eps, \n",
    "                                                  nr_steps=N, dt=dt, return_convergence=True, nr_of_lyapunovs=m)"
   ]
  },
  {
   "cell_type": "code",
   "execution_count": null,
   "id": "85f1ce62",
   "metadata": {},
   "outputs": [],
   "source": [
    "lyaps, lyaps_development = out\n",
    "\n",
    "title = \"KS, 12 most positive LEs, scipy 64\"\n",
    "plt.figure(figsize=(15, 10))\n",
    "\n",
    "plt.title(title)\n",
    "plt.xlabel(\"iterations of QR algorithm\")\n",
    "plt.ylabel(r\"$\\lambda_i$\")\n",
    "plt.plot(lyaps_development[:, :12])\n",
    "plt.grid()\n",
    "plt.axhline(0, c=\"k\", linestyle =\"--\")\n",
    "for i, y in enumerate(lyapunov_exp_literature):\n",
    "    if i == 0:\n",
    "        plt.axhline(y, c=\"r\", linestyle=\":\", label=\"literature\")\n",
    "    else:\n",
    "        plt.axhline(y, c=\"r\", linestyle=\":\")\n",
    "\n",
    "plt.legend()"
   ]
  },
  {
   "cell_type": "code",
   "execution_count": null,
   "id": "cf10e01a",
   "metadata": {},
   "outputs": [],
   "source": [
    "KY = rescomp.measures.KY_dimension(lyaps)\n",
    "print(KY)"
   ]
  },
  {
   "cell_type": "markdown",
   "id": "78959f31",
   "metadata": {},
   "source": [
    "# check multiple initial conditions:"
   ]
  },
  {
   "cell_type": "code",
   "execution_count": null,
   "id": "ea937355",
   "metadata": {},
   "outputs": [],
   "source": [
    "def create_ks_sim_func(fft_type, prec, dimensions, system_size, mode=\"normal\"):\n",
    "    if mode == \"precision\":\n",
    "        def data_creation_function(time_steps, dt, starting_point=None):\n",
    "            return rescomp.simulations._kuramoto_sivashinsky_custom(dimensions, system_size, dt, time_steps, starting_point,\n",
    "                                     precision=prec, fft_type=fft_type)\n",
    "    elif mode == \"Bhatt\":\n",
    "        def data_creation_function(time_steps, dt, starting_point=None):\n",
    "            return rescomp.simulations._kuramoto_sivashinsky_Bhatt(dimensions, system_size, dt, time_steps, starting_point)\n",
    "    elif mode == \"normal\":\n",
    "        def data_creation_function(time_steps, dt, starting_point=None):\n",
    "            return rescomp.simulations._kuramoto_sivashinsky(dimensions, system_size, dt, time_steps, starting_point)\n",
    "    \n",
    "    return data_creation_function\n",
    "\n"
   ]
  },
  {
   "cell_type": "code",
   "execution_count": null,
   "id": "95f3352d",
   "metadata": {},
   "outputs": [],
   "source": [
    "lyapunov_exp_literature = [0.08, 0.056, 0.014, 0.003, -0.003, -0.004, -0.021, -0.088, -0.160, -0.224, -0.309, -0.373]\n",
    "\n",
    "# PARAMETERS\n",
    "dt = 0.25\n",
    "N = 50# 10\n",
    "tau = 100\n",
    "T = 2\n",
    "eps = 1e-8\n",
    "m = 12\n",
    "system_size = 36\n",
    "dimensions = 40"
   ]
  },
  {
   "cell_type": "markdown",
   "id": "d4f9a720",
   "metadata": {},
   "source": [
    "### KS Precision changes:"
   ]
  },
  {
   "cell_type": "code",
   "execution_count": null,
   "id": "d2e797a6",
   "metadata": {},
   "outputs": [],
   "source": [
    "# %%timeit\n",
    "N_ens = 3\n",
    "precisions = [32, 64]\n",
    "\n",
    "out_dict = {x:np.zeros((N_ens, N, m)) for x in precisions}\n",
    "for prec in precisions:\n",
    "    np.random.seed(5)\n",
    "    print(f\"prec: {prec}\")\n",
    "    for n in range(N_ens):\n",
    "        print(f\"n: {n+1}\")\n",
    "    \n",
    "        initial_condition = np.random.randn(dimensions)\n",
    "        data_creation_function_KS = create_ks_sim_func(fft_type=\"scipy\", prec=prec, dimensions=dimensions, \n",
    "                                                       system_size=system_size, mode=\"precision\")\n",
    "        \n",
    "        def f(x):\n",
    "            return data_creation_function_KS(time_steps=2, dt=dt, starting_point=x)[-1]\n",
    "        \n",
    "        # f = lambda x: data_creation_function_KS(time_steps=2, dt=dt, starting_point=x)[-1]\n",
    "        \n",
    "        out = rescomp.measures.iterator_based_lyapunov_spectrum(f, starting_point=initial_condition, T=T, tau=tau, eps=eps, \n",
    "                                                  nr_steps=N, dt=dt, return_convergence=True, nr_of_lyapunovs=m)\n",
    "        out_dict[prec][n, :, :] = out[1]"
   ]
  },
  {
   "cell_type": "code",
   "execution_count": null,
   "id": "9de393dc",
   "metadata": {},
   "outputs": [],
   "source": [
    "plt.figure(figsize=(15,15))\n",
    "\n",
    "j = 0\n",
    "\n",
    "for prec, val in out_dict.items():\n",
    "\n",
    "    plt.subplot(2, 1, j+1)\n",
    "    plt.title(f\"precision: {prec}, dt: {dt}, L: {system_size}, dimensions: {dimensions}, N_ens: {N_ens}, T_disc: {tau}, T: {T}, eps: {eps}\")\n",
    "    plt.grid()\n",
    "    avg = val.mean(axis=0)\n",
    "    error = val.std(axis=0)\n",
    "    for dim in range(m):\n",
    "        plt.errorbar(x=np.arange(N), y=avg[:, dim], yerr=error[:, dim])\n",
    "    plt.xlabel(\"iterations of QR algorithm\")\n",
    "    plt.ylabel(r\"$\\lambda_i$\")\n",
    "    plt.axhline(0, c=\"k\", linestyle =\"--\")\n",
    "    for i, y in enumerate(lyapunov_exp_literature):\n",
    "        if i == 0:\n",
    "            plt.axhline(y, c=\"r\", linestyle=\":\", label=\"literature\")\n",
    "        else:\n",
    "            plt.axhline(y, c=\"r\", linestyle=\":\")\n",
    "    \n",
    "    plt.legend()\n",
    "    j += 1"
   ]
  },
  {
   "cell_type": "markdown",
   "id": "bd980cb7",
   "metadata": {},
   "source": [
    "### Bhatt KS Simulation:"
   ]
  },
  {
   "cell_type": "code",
   "execution_count": null,
   "id": "cef2f0e3",
   "metadata": {},
   "outputs": [],
   "source": [
    "lyapunov_exp_literature = [0.08, 0.056, 0.014, 0.003, -0.003, -0.004, -0.021, -0.088, -0.160, -0.224, -0.309, -0.373]\n",
    "\n",
    "# PARAMETERS\n",
    "dt = 0.25\n",
    "N = 100\n",
    "tau = 1000\n",
    "T = 2\n",
    "eps = 1e-6\n",
    "m = 12\n",
    "system_size = 36\n",
    "dimensions = 60"
   ]
  },
  {
   "cell_type": "code",
   "execution_count": null,
   "id": "b3140d4f",
   "metadata": {},
   "outputs": [],
   "source": [
    "# %%timeit\n",
    "N_ens = 3\n",
    "\n",
    "result = np.zeros((N_ens, N, m))\n",
    "\n",
    "np.random.seed(5)\n",
    "for n in range(N_ens):\n",
    "    print(f\"n: {n+1}\")\n",
    "\n",
    "    initial_condition = np.random.randn(dimensions)\n",
    "    data_creation_function_KS = create_ks_sim_func(None, None, dimensions, system_size, mode=\"Bhatt\")\n",
    "\n",
    "    def f(x):\n",
    "        return data_creation_function_KS(time_steps=2, dt=dt, starting_point=x)[-1]\n",
    "\n",
    "    # f = lambda x: data_creation_function_KS(time_steps=2, dt=dt, starting_point=x)[-1]\n",
    "\n",
    "    out = rescomp.measures.iterator_based_lyapunov_spectrum(f, starting_point=initial_condition, T=T, tau=tau, eps=eps, \n",
    "                                              nr_steps=N, dt=dt, return_convergence=True, nr_of_lyapunovs=m)\n",
    "    result[n, :, :] = out[1]"
   ]
  },
  {
   "cell_type": "code",
   "execution_count": null,
   "id": "ca0b5b19",
   "metadata": {
    "scrolled": false
   },
   "outputs": [],
   "source": [
    "plt.figure(figsize=(15,10))\n",
    "\n",
    "plt.title(f\"dt: {dt}, L: {system_size}, dimensions: {dimensions}, N_ens: {N_ens}, T_disc: {tau}, T: {T}, eps: {eps}\")\n",
    "plt.grid()\n",
    "avg = result.mean(axis=0)\n",
    "avg = result[0, :]\n",
    "error = result.std(axis=0)\n",
    "for dim in range(m):\n",
    "    plt.errorbar(x=np.arange(N), y=avg[:, dim], yerr=error[:, dim])\n",
    "plt.xlabel(\"iterations of QR algorithm\")\n",
    "plt.ylabel(r\"$\\lambda_i$\")\n",
    "plt.axhline(0, c=\"k\", linestyle =\"--\")\n",
    "for i, y in enumerate(lyapunov_exp_literature):\n",
    "    if i == 0:\n",
    "        plt.axhline(y, c=\"r\", linestyle=\":\", label=\"literature\")\n",
    "    else:\n",
    "        plt.axhline(y, c=\"r\", linestyle=\":\")\n",
    "plt.ylim(-0.7, 0.3)\n",
    "plt.legend()"
   ]
  },
  {
   "cell_type": "markdown",
   "id": "a2137e7a",
   "metadata": {},
   "source": [
    "### the \"normal\" KS Simulation:"
   ]
  },
  {
   "cell_type": "code",
   "execution_count": null,
   "id": "c69ec134",
   "metadata": {},
   "outputs": [],
   "source": [
    "# %%timeit\n",
    "N_ens = 3\n",
    "\n",
    "result = np.zeros((N_ens, N, m))\n",
    "\n",
    "np.random.seed(5)\n",
    "for n in range(N_ens):\n",
    "    print(f\"n: {n+1}\")\n",
    "\n",
    "    initial_condition = np.random.randn(dimensions)\n",
    "    data_creation_function_KS = create_ks_sim_func(None, None, dimensions, system_size, mode=\"normal\")\n",
    "\n",
    "    def f(x):\n",
    "        return data_creation_function_KS(time_steps=2, dt=dt, starting_point=x)[-1]\n",
    "\n",
    "    # f = lambda x: data_creation_function_KS(time_steps=2, dt=dt, starting_point=x)[-1]\n",
    "\n",
    "    out = rescomp.measures.iterator_based_lyapunov_spectrum(f, starting_point=initial_condition, T=T, tau=tau, eps=eps, \n",
    "                                              nr_steps=N, dt=dt, return_convergence=True, nr_of_lyapunovs=m)\n",
    "    result[n, :, :] = out[1]"
   ]
  },
  {
   "cell_type": "code",
   "execution_count": null,
   "id": "8f650b82",
   "metadata": {},
   "outputs": [],
   "source": [
    "plt.figure(figsize=(15,10))\n",
    "\n",
    "plt.title(f\"dt: {dt}, L: {system_size}, dimensions: {dimensions}, N_ens: {N_ens}, T_disc: {tau}, T: {T}, eps: {eps}\")\n",
    "plt.grid()\n",
    "avg = result.mean(axis=0)\n",
    "error = result.std(axis=0)\n",
    "for dim in range(m):\n",
    "    plt.errorbar(x=np.arange(N), y=avg[:, dim], yerr=error[:, dim])\n",
    "plt.xlabel(\"iterations of QR algorithm\")\n",
    "plt.ylabel(r\"$\\lambda_i$\")\n",
    "plt.axhline(0, c=\"k\", linestyle =\"--\")\n",
    "for i, y in enumerate(lyapunov_exp_literature):\n",
    "    if i == 0:\n",
    "        plt.axhline(y, c=\"r\", linestyle=\":\", label=\"literature\")\n",
    "    else:\n",
    "        plt.axhline(y, c=\"r\", linestyle=\":\")\n",
    "plt.ylim(-0.7, 0.3)\n",
    "plt.legend()\n"
   ]
  },
  {
   "cell_type": "code",
   "execution_count": null,
   "id": "b23ad67d",
   "metadata": {},
   "outputs": [],
   "source": []
  },
  {
   "cell_type": "code",
   "execution_count": null,
   "id": "3075f951",
   "metadata": {},
   "outputs": [],
   "source": []
  },
  {
   "cell_type": "code",
   "execution_count": null,
   "id": "be05c7d6",
   "metadata": {},
   "outputs": [],
   "source": []
  }
 ],
 "metadata": {
  "hide_input": false,
  "kernelspec": {
   "display_name": "Python [conda env:rc_env_np16p6]",
   "language": "python",
   "name": "conda-env-rc_env_np16p6-py"
  },
  "language_info": {
   "codemirror_mode": {
    "name": "ipython",
    "version": 3
   },
   "file_extension": ".py",
   "mimetype": "text/x-python",
   "name": "python",
   "nbconvert_exporter": "python",
   "pygments_lexer": "ipython3",
   "version": "3.7.5"
  }
 },
 "nbformat": 4,
 "nbformat_minor": 5
}
