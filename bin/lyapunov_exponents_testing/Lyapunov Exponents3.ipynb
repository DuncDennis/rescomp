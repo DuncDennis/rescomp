{
 "cells": [
  {
   "cell_type": "code",
   "execution_count": 1,
   "id": "a95b6a16",
   "metadata": {},
   "outputs": [],
   "source": [
    "import numpy as np\n",
    "import rescomp\n",
    "\n",
    "import matplotlib.pyplot as plt"
   ]
  },
  {
   "cell_type": "code",
   "execution_count": null,
   "id": "0de6449b",
   "metadata": {},
   "outputs": [],
   "source": [
    "# best one sofar\n",
    "def get_lypunov_exponents_minimal(data_creation_function, tau, T, N, dt, eps, m, starting_point=None, iteration_process=False):\n",
    "    \n",
    "    # setting up\n",
    "    tau_timesteps = int(tau/dt)\n",
    "    T_timesteps = int(T/dt)\n",
    "    \n",
    "    if tau_timesteps == 0:\n",
    "        if starting_point is None:\n",
    "            print(\"ERROR: starting_point is None, and tau is 0\")\n",
    "            return\n",
    "        initial_condition = starting_point\n",
    "    else:     \n",
    "        initial_condition = data_creation_function(tau_timesteps, dt, starting_point=starting_point)[-1] # discard transient states\n",
    "    state_dim = initial_condition.size\n",
    "    if m>state_dim:\n",
    "        print(\"ERROR: m > state_dim\")\n",
    "        return\n",
    "    \n",
    "    # choose initial orthogonal directions:\n",
    "    Q = np.eye(state_dim, m)\n",
    "    \n",
    "    # Space to save u_js:\n",
    "    U = np.zeros((state_dim, N+1))\n",
    "    U[:, 0] = initial_condition\n",
    "    \n",
    "    PsiQ = np.zeros(Q.shape)\n",
    "    \n",
    "    R_diags = np.zeros((N, m))\n",
    "    \n",
    "    for j in range(1, N+1): # for all time intervals\n",
    "        u_jm1 = U[:, j-1]\n",
    "        u_j = data_creation_function(T_timesteps, dt, starting_point = u_jm1)[-1]\n",
    "        U[:, j] = u_j\n",
    "        for i in range(m): # for all dimensions\n",
    "            q_i = Q[:, i] # the (j-1)th Q\n",
    "            u_jm1_per = u_jm1 + eps*q_i\n",
    "            w_i_j = data_creation_function(T_timesteps, dt, starting_point = u_jm1_per)[-1]\n",
    "            PsiQ[:, i] = (w_i_j - u_j)/eps # approximation of Psi(t_j, t_jm1)q_i(j_m1)\n",
    "        \n",
    "        Q, R = np.linalg.qr(PsiQ) # the new Q (the jth)\n",
    "\n",
    "        for i in range(m):\n",
    "            R_diags[j-1, i] = R[i, i]\n",
    "    lyapunov_exp = np.sum(np.log(np.abs(R_diags))/(N*T), axis = 0)\n",
    "    if iteration_process:\n",
    "        return lyapunov_exp, np.cumsum(np.log(np.abs(R_diags))/(N*T), axis = 0)\n",
    "    return lyapunov_exp\n",
    "\n",
    "# best one sofar\n",
    "def get_lypunov_exponents_minimal(data_creation_function, tau, T, N, dt, eps, m, starting_point=None, iteration_process=False):\n",
    "    \n",
    "    # setting up\n",
    "    tau_timesteps = int(tau/dt)\n",
    "    T_timesteps = int(T/dt)\n",
    "    \n",
    "    if tau_timesteps == 0:\n",
    "        if starting_point is None:\n",
    "            print(\"ERROR: starting_point is None, and tau is 0\")\n",
    "            return\n",
    "        initial_condition = starting_point\n",
    "    else:     \n",
    "        initial_condition = data_creation_function(tau_timesteps, dt, starting_point=starting_point)[-1] # discard transient states\n",
    "    state_dim = initial_condition.size\n",
    "    if m>state_dim:\n",
    "        print(\"ERROR: m > state_dim\")\n",
    "        return\n",
    "    \n",
    "    # choose initial orthogonal directions:\n",
    "    Q = np.eye(state_dim, m)\n",
    "    \n",
    "    # Space to save u_js:\n",
    "    U = np.zeros((state_dim, N+1))\n",
    "    U[:, 0] = initial_condition\n",
    "    \n",
    "    PsiQ = np.zeros(Q.shape)\n",
    "    \n",
    "    R_diags = np.zeros((N, m))\n",
    "    \n",
    "    for j in range(1, N+1): # for all time intervals\n",
    "        u_jm1 = U[:, j-1]\n",
    "        u_j = data_creation_function(T_timesteps, dt, starting_point = u_jm1)[-1]\n",
    "        U[:, j] = u_j\n",
    "        for i in range(m): # for all dimensions\n",
    "            q_i = Q[:, i] # the (j-1)th Q\n",
    "            u_jm1_per = u_jm1 + eps*q_i\n",
    "            w_i_j = data_creation_function(T_timesteps, dt, starting_point = u_jm1_per)[-1]\n",
    "            PsiQ[:, i] = (w_i_j - u_j)/eps # approximation of Psi(t_j, t_jm1)q_i(j_m1)\n",
    "        \n",
    "        Q, R = np.linalg.qr(PsiQ) # the new Q (the jth)\n",
    "\n",
    "        for i in range(m):\n",
    "            R_diags[j-1, i] = R[i, i]\n",
    "    lyapunov_exp = np.sum(np.log(np.abs(R_diags))/(N*T), axis = 0)\n",
    "    if iteration_process:\n",
    "        return lyapunov_exp, np.cumsum(np.log(np.abs(R_diags))/(N*T), axis = 0)\n",
    "    return lyapunov_exp"
   ]
  },
  {
   "cell_type": "code",
   "execution_count": null,
   "id": "d8ccc5ae",
   "metadata": {},
   "outputs": [],
   "source": [
    "# Joshkas Function\n",
    "def equation_based_lyapunov_spectrum_discrete(f, Jacobian, starting_point,\n",
    "                                              nr_steps=3000, dt=1.,\n",
    "                                              return_convergence=False):\n",
    "    \"\"\" Calculates the lyapunov spectrum of a discrete dynamical system\n",
    "    with x_n+1 = f(x_n) using a standard QR-based algorithm.\n",
    "\n",
    "    Based on equations not data.\n",
    "\n",
    "    Measure for chaotic behaviour in the system.\n",
    "\n",
    "    Important characteristic to compare attractors.\n",
    "\n",
    "    Args:\n",
    "        f (function): mapping with x_n+1 = f(x_n)\n",
    "        Jacobian (function): Jacobian of f , takes x as argument\n",
    "        starting_point (np.ndarray): inintial condition of iteration\n",
    "        nr_steps (int): number of iteration steps\n",
    "        dt (float): time scale of a step\n",
    "        return_convergence (bool): if True returns the development of the\n",
    "                estimate for the lyapunov spectrum over time in steps of 100\n",
    "                iterations.\n",
    "\n",
    "    Returns:\n",
    "        np.ndarray_or_tuple : lyapunov spectrum if return_convergence is False,\n",
    "                                tuple of final lyapunov spectrum and development\n",
    "                                of lyapunov spectrum if return_convergence is\n",
    "                                True\n",
    "\n",
    "     \"\"\"\n",
    "    x = starting_point\n",
    "\n",
    "    # jac = Jacobian(x)\n",
    "    # jac_sparse = scipy.sparse.csr_matrix(Jacobian(x))\n",
    "\n",
    "    Q, R = np.linalg.qr(Jacobian(x))\n",
    "\n",
    "    s = []\n",
    "    lces = []\n",
    "\n",
    "    for n in range(nr_steps):\n",
    "        x = f(x)\n",
    "        Q, R = np.linalg.qr(np.matmul(Jacobian(x), Q))\n",
    "\n",
    "        s.append(np.array([R[i, i] for i in range(len(R))]))\n",
    "\n",
    "        if return_convergence:\n",
    "            lya = np.sum(np.log(np.abs(s)), axis=0) / ((n + 1) * dt)\n",
    "            lces.append(lya)\n",
    "\n",
    "    lya = np.sum(np.log(np.abs(s)), axis=0) / (nr_steps * dt)\n",
    "\n",
    "    if return_convergence:\n",
    "        return lya, np.array(lces)\n",
    "    else:\n",
    "        return lya\n",
    "    \n"
   ]
  },
  {
   "cell_type": "code",
   "execution_count": 2,
   "id": "1d7194ac",
   "metadata": {},
   "outputs": [],
   "source": [
    "# KS system:\n",
    "dimensions = 64\n",
    "system_size = 35\n",
    "def data_creation_function_KS(time_steps, dt, starting_point=None):\n",
    "    sim_data = rescomp.simulate_trajectory(\n",
    "            sys_flag='kuramoto_sivashinsky', dimensions=dimensions, system_size=system_size, dt=dt,\n",
    "            time_steps=time_steps, starting_point = starting_point)\n",
    "    return sim_data\n",
    "\n",
    "# Lorenz system\n",
    "def data_creation_function_Lorenz(time_steps, dt, starting_point=None):\n",
    "    return  rescomp.simulate_trajectory(\n",
    "            sys_flag='lorenz', dt=dt, time_steps=time_steps,\n",
    "            starting_point=starting_point)"
   ]
  },
  {
   "cell_type": "code",
   "execution_count": null,
   "id": "e03c40f6",
   "metadata": {},
   "outputs": [],
   "source": [
    "# Jacobian Lorenz:\n",
    "def Jacobian_Lorenz(x, dt, sigma=10, rho=28, beta=8/3):\n",
    "    '''\n",
    "    The jacobian of the iterator of the Lorenz system based on the simple forward Euler\n",
    "    '''\n",
    "    return np.eye(3) + dt*np.array([[-sigma, sigma, 0],\n",
    "                                    [-x[2] + rho, -1, x[0]],\n",
    "                                    [x[1], x[0], -beta]])\n",
    "\n",
    "\n",
    "Jacobian_Lorenz([0,0,0], dt= 0.1)"
   ]
  },
  {
   "cell_type": "code",
   "execution_count": 6,
   "id": "e1677dca",
   "metadata": {},
   "outputs": [
    {
     "ename": "KeyboardInterrupt",
     "evalue": "",
     "output_type": "error",
     "traceback": [
      "\u001b[1;31m---------------------------------------------------------------------------\u001b[0m",
      "\u001b[1;31mKeyboardInterrupt\u001b[0m                         Traceback (most recent call last)",
      "\u001b[1;32m~\\AppData\\Local\\Temp/ipykernel_13340/155253758.py\u001b[0m in \u001b[0;36m<module>\u001b[1;34m\u001b[0m\n\u001b[0;32m     11\u001b[0m lyapunov_exp, lyapunov_exp_convergence = rescomp.measures.iterator_based_lyapunov_spectrum(f, starting_point, T=T, \n\u001b[0;32m     12\u001b[0m                                                                                            \u001b[0mtau\u001b[0m\u001b[1;33m=\u001b[0m\u001b[0mtau\u001b[0m\u001b[1;33m,\u001b[0m\u001b[1;33m\u001b[0m\u001b[1;33m\u001b[0m\u001b[0m\n\u001b[1;32m---> 13\u001b[1;33m                                                   eps=eps, nr_steps=N, dt=dt, return_convergence=True)\n\u001b[0m",
      "\u001b[1;32mc:\\users\\dennis\\documents\\github\\rescomp\\rescomp\\measures.py\u001b[0m in \u001b[0;36miterator_based_lyapunov_spectrum\u001b[1;34m(f, starting_point, T, tau, eps, nr_of_lyapunovs, nr_steps, dt, return_convergence)\u001b[0m\n\u001b[0;32m    522\u001b[0m             \u001b[0mq_i\u001b[0m \u001b[1;33m=\u001b[0m \u001b[0mQ\u001b[0m\u001b[1;33m[\u001b[0m\u001b[1;33m:\u001b[0m\u001b[1;33m,\u001b[0m \u001b[0mi\u001b[0m\u001b[1;33m]\u001b[0m\u001b[1;33m\u001b[0m\u001b[1;33m\u001b[0m\u001b[0m\n\u001b[0;32m    523\u001b[0m             \u001b[0mx_mod_i\u001b[0m \u001b[1;33m=\u001b[0m \u001b[0mx\u001b[0m \u001b[1;33m+\u001b[0m \u001b[0meps\u001b[0m\u001b[1;33m*\u001b[0m\u001b[0mq_i\u001b[0m\u001b[1;33m\u001b[0m\u001b[1;33m\u001b[0m\u001b[0m\n\u001b[1;32m--> 524\u001b[1;33m             \u001b[0mx_mod_i_new\u001b[0m \u001b[1;33m=\u001b[0m \u001b[0mf_steps\u001b[0m\u001b[1;33m(\u001b[0m\u001b[0mx_mod_i\u001b[0m\u001b[1;33m,\u001b[0m \u001b[0mtau_timesteps\u001b[0m\u001b[1;33m)\u001b[0m\u001b[1;33m\u001b[0m\u001b[1;33m\u001b[0m\u001b[0m\n\u001b[0m\u001b[0;32m    525\u001b[0m             \u001b[0mW\u001b[0m\u001b[1;33m[\u001b[0m\u001b[1;33m:\u001b[0m\u001b[1;33m,\u001b[0m \u001b[0mi\u001b[0m\u001b[1;33m]\u001b[0m \u001b[1;33m=\u001b[0m \u001b[1;33m(\u001b[0m\u001b[0mx_mod_i_new\u001b[0m \u001b[1;33m-\u001b[0m \u001b[0mx_new\u001b[0m\u001b[1;33m)\u001b[0m\u001b[1;33m/\u001b[0m\u001b[0meps\u001b[0m\u001b[1;33m\u001b[0m\u001b[1;33m\u001b[0m\u001b[0m\n\u001b[0;32m    526\u001b[0m \u001b[1;33m\u001b[0m\u001b[0m\n",
      "\u001b[1;32mc:\\users\\dennis\\documents\\github\\rescomp\\rescomp\\measures.py\u001b[0m in \u001b[0;36mf_steps\u001b[1;34m(x, steps)\u001b[0m\n\u001b[0;32m    487\u001b[0m     \u001b[1;32mdef\u001b[0m \u001b[0mf_steps\u001b[0m\u001b[1;33m(\u001b[0m\u001b[0mx\u001b[0m\u001b[1;33m,\u001b[0m \u001b[0msteps\u001b[0m\u001b[1;33m)\u001b[0m\u001b[1;33m:\u001b[0m\u001b[1;33m\u001b[0m\u001b[1;33m\u001b[0m\u001b[0m\n\u001b[0;32m    488\u001b[0m         \u001b[1;32mfor\u001b[0m \u001b[0mi\u001b[0m \u001b[1;32min\u001b[0m \u001b[0mrange\u001b[0m\u001b[1;33m(\u001b[0m\u001b[0msteps\u001b[0m\u001b[1;33m-\u001b[0m\u001b[1;36m1\u001b[0m\u001b[1;33m)\u001b[0m\u001b[1;33m:\u001b[0m\u001b[1;33m\u001b[0m\u001b[1;33m\u001b[0m\u001b[0m\n\u001b[1;32m--> 489\u001b[1;33m             \u001b[0mx\u001b[0m \u001b[1;33m=\u001b[0m \u001b[0mf\u001b[0m\u001b[1;33m(\u001b[0m\u001b[0mx\u001b[0m\u001b[1;33m)\u001b[0m\u001b[1;33m\u001b[0m\u001b[1;33m\u001b[0m\u001b[0m\n\u001b[0m\u001b[0;32m    490\u001b[0m         \u001b[1;32mreturn\u001b[0m \u001b[0mx\u001b[0m\u001b[1;33m\u001b[0m\u001b[1;33m\u001b[0m\u001b[0m\n\u001b[0;32m    491\u001b[0m \u001b[1;33m\u001b[0m\u001b[0m\n",
      "\u001b[1;32m~\\AppData\\Local\\Temp/ipykernel_13340/155253758.py\u001b[0m in \u001b[0;36m<lambda>\u001b[1;34m(x)\u001b[0m\n\u001b[0;32m      6\u001b[0m \u001b[0mT\u001b[0m \u001b[1;33m=\u001b[0m \u001b[1;36m2\u001b[0m\u001b[1;33m\u001b[0m\u001b[1;33m\u001b[0m\u001b[0m\n\u001b[0;32m      7\u001b[0m \u001b[0meps\u001b[0m \u001b[1;33m=\u001b[0m \u001b[1;36m1e-6\u001b[0m\u001b[1;33m\u001b[0m\u001b[1;33m\u001b[0m\u001b[0m\n\u001b[1;32m----> 8\u001b[1;33m \u001b[0mf\u001b[0m \u001b[1;33m=\u001b[0m \u001b[1;32mlambda\u001b[0m \u001b[0mx\u001b[0m\u001b[1;33m:\u001b[0m \u001b[0mdata_creation_function_Lorenz\u001b[0m\u001b[1;33m(\u001b[0m\u001b[0mtime_steps\u001b[0m\u001b[1;33m=\u001b[0m\u001b[1;36m2\u001b[0m\u001b[1;33m,\u001b[0m \u001b[0mdt\u001b[0m\u001b[1;33m=\u001b[0m\u001b[0mdt\u001b[0m\u001b[1;33m,\u001b[0m \u001b[0mstarting_point\u001b[0m\u001b[1;33m=\u001b[0m\u001b[0mx\u001b[0m\u001b[1;33m)\u001b[0m\u001b[1;33m[\u001b[0m\u001b[1;33m-\u001b[0m\u001b[1;36m1\u001b[0m\u001b[1;33m]\u001b[0m\u001b[1;33m\u001b[0m\u001b[1;33m\u001b[0m\u001b[0m\n\u001b[0m\u001b[0;32m      9\u001b[0m \u001b[1;33m\u001b[0m\u001b[0m\n\u001b[0;32m     10\u001b[0m \u001b[1;33m\u001b[0m\u001b[0m\n",
      "\u001b[1;32m~\\AppData\\Local\\Temp/ipykernel_13340/3863761052.py\u001b[0m in \u001b[0;36mdata_creation_function_Lorenz\u001b[1;34m(time_steps, dt, starting_point)\u001b[0m\n\u001b[0;32m     12\u001b[0m     return  rescomp.simulate_trajectory(\n\u001b[0;32m     13\u001b[0m             \u001b[0msys_flag\u001b[0m\u001b[1;33m=\u001b[0m\u001b[1;34m'lorenz'\u001b[0m\u001b[1;33m,\u001b[0m \u001b[0mdt\u001b[0m\u001b[1;33m=\u001b[0m\u001b[0mdt\u001b[0m\u001b[1;33m,\u001b[0m \u001b[0mtime_steps\u001b[0m\u001b[1;33m=\u001b[0m\u001b[0mtime_steps\u001b[0m\u001b[1;33m,\u001b[0m\u001b[1;33m\u001b[0m\u001b[1;33m\u001b[0m\u001b[0m\n\u001b[1;32m---> 14\u001b[1;33m             starting_point=starting_point)\n\u001b[0m",
      "\u001b[1;32mc:\\users\\dennis\\documents\\github\\rescomp\\rescomp\\simulations.py\u001b[0m in \u001b[0;36msimulate_trajectory\u001b[1;34m(sys_flag, dt, time_steps, starting_point, **kwargs)\u001b[0m\n\u001b[0;32m    483\u001b[0m     \u001b[1;32mfor\u001b[0m \u001b[0mt\u001b[0m \u001b[1;32min\u001b[0m \u001b[0mrange\u001b[0m\u001b[1;33m(\u001b[0m\u001b[0mtraj_size\u001b[0m\u001b[1;33m[\u001b[0m\u001b[1;36m0\u001b[0m\u001b[1;33m]\u001b[0m\u001b[1;33m)\u001b[0m\u001b[1;33m:\u001b[0m\u001b[1;33m\u001b[0m\u001b[1;33m\u001b[0m\u001b[0m\n\u001b[0;32m    484\u001b[0m         \u001b[0mtraj\u001b[0m\u001b[1;33m[\u001b[0m\u001b[0mt\u001b[0m\u001b[1;33m]\u001b[0m \u001b[1;33m=\u001b[0m \u001b[0my\u001b[0m\u001b[1;33m\u001b[0m\u001b[1;33m\u001b[0m\u001b[0m\n\u001b[1;32m--> 485\u001b[1;33m         \u001b[0my\u001b[0m \u001b[1;33m=\u001b[0m \u001b[0m_runge_kutta\u001b[0m\u001b[1;33m(\u001b[0m\u001b[0mf\u001b[0m\u001b[1;33m,\u001b[0m \u001b[0mdt\u001b[0m\u001b[1;33m,\u001b[0m \u001b[0my\u001b[0m\u001b[1;33m=\u001b[0m\u001b[0my\u001b[0m\u001b[1;33m)\u001b[0m\u001b[1;33m\u001b[0m\u001b[1;33m\u001b[0m\u001b[0m\n\u001b[0m\u001b[0;32m    486\u001b[0m     \u001b[1;32mreturn\u001b[0m \u001b[0mtraj\u001b[0m\u001b[1;33m\u001b[0m\u001b[1;33m\u001b[0m\u001b[0m\n\u001b[0;32m    487\u001b[0m \u001b[1;33m\u001b[0m\u001b[0m\n",
      "\u001b[1;32mc:\\users\\dennis\\documents\\github\\rescomp\\rescomp\\simulations.py\u001b[0m in \u001b[0;36m_runge_kutta\u001b[1;34m(f, dt, y)\u001b[0m\n\u001b[0;32m    334\u001b[0m     \u001b[0mk1\u001b[0m \u001b[1;33m=\u001b[0m \u001b[0mdt\u001b[0m \u001b[1;33m*\u001b[0m \u001b[0mf\u001b[0m\u001b[1;33m(\u001b[0m\u001b[0my\u001b[0m\u001b[1;33m)\u001b[0m\u001b[1;33m\u001b[0m\u001b[1;33m\u001b[0m\u001b[0m\n\u001b[0;32m    335\u001b[0m     \u001b[0mk2\u001b[0m \u001b[1;33m=\u001b[0m \u001b[0mdt\u001b[0m \u001b[1;33m*\u001b[0m \u001b[0mf\u001b[0m\u001b[1;33m(\u001b[0m\u001b[0my\u001b[0m \u001b[1;33m+\u001b[0m \u001b[0mk1\u001b[0m \u001b[1;33m/\u001b[0m \u001b[1;36m2\u001b[0m\u001b[1;33m)\u001b[0m\u001b[1;33m\u001b[0m\u001b[1;33m\u001b[0m\u001b[0m\n\u001b[1;32m--> 336\u001b[1;33m     \u001b[0mk3\u001b[0m \u001b[1;33m=\u001b[0m \u001b[0mdt\u001b[0m \u001b[1;33m*\u001b[0m \u001b[0mf\u001b[0m\u001b[1;33m(\u001b[0m\u001b[0my\u001b[0m \u001b[1;33m+\u001b[0m \u001b[0mk2\u001b[0m \u001b[1;33m/\u001b[0m \u001b[1;36m2\u001b[0m\u001b[1;33m)\u001b[0m\u001b[1;33m\u001b[0m\u001b[1;33m\u001b[0m\u001b[0m\n\u001b[0m\u001b[0;32m    337\u001b[0m     \u001b[0mk4\u001b[0m \u001b[1;33m=\u001b[0m \u001b[0mdt\u001b[0m \u001b[1;33m*\u001b[0m \u001b[0mf\u001b[0m\u001b[1;33m(\u001b[0m\u001b[0my\u001b[0m \u001b[1;33m+\u001b[0m \u001b[0mk3\u001b[0m\u001b[1;33m)\u001b[0m\u001b[1;33m\u001b[0m\u001b[1;33m\u001b[0m\u001b[0m\n\u001b[0;32m    338\u001b[0m     \u001b[1;32mreturn\u001b[0m \u001b[0my\u001b[0m \u001b[1;33m+\u001b[0m \u001b[1;36m1.\u001b[0m \u001b[1;33m/\u001b[0m \u001b[1;36m6\u001b[0m \u001b[1;33m*\u001b[0m \u001b[1;33m(\u001b[0m\u001b[0mk1\u001b[0m \u001b[1;33m+\u001b[0m \u001b[1;36m2\u001b[0m \u001b[1;33m*\u001b[0m \u001b[0mk2\u001b[0m \u001b[1;33m+\u001b[0m \u001b[1;36m2\u001b[0m \u001b[1;33m*\u001b[0m \u001b[0mk3\u001b[0m \u001b[1;33m+\u001b[0m \u001b[0mk4\u001b[0m\u001b[1;33m)\u001b[0m\u001b[1;33m\u001b[0m\u001b[1;33m\u001b[0m\u001b[0m\n",
      "\u001b[1;32mc:\\users\\dennis\\documents\\github\\rescomp\\rescomp\\simulations.py\u001b[0m in \u001b[0;36m<lambda>\u001b[1;34m(x)\u001b[0m\n\u001b[0;32m    440\u001b[0m         \u001b[0mf\u001b[0m \u001b[1;33m=\u001b[0m \u001b[1;32mlambda\u001b[0m \u001b[0mx\u001b[0m\u001b[1;33m:\u001b[0m \u001b[0m_mod_lorenz_wrong\u001b[0m\u001b[1;33m(\u001b[0m\u001b[0mx\u001b[0m\u001b[1;33m,\u001b[0m \u001b[1;33m**\u001b[0m\u001b[0mkwargs\u001b[0m\u001b[1;33m)\u001b[0m\u001b[1;33m\u001b[0m\u001b[1;33m\u001b[0m\u001b[0m\n\u001b[0;32m    441\u001b[0m     \u001b[1;32melif\u001b[0m \u001b[0msys_flag_syn\u001b[0m \u001b[1;33m==\u001b[0m \u001b[1;36m2\u001b[0m\u001b[1;33m:\u001b[0m\u001b[1;33m\u001b[0m\u001b[1;33m\u001b[0m\u001b[0m\n\u001b[1;32m--> 442\u001b[1;33m         \u001b[0mf\u001b[0m \u001b[1;33m=\u001b[0m \u001b[1;32mlambda\u001b[0m \u001b[0mx\u001b[0m\u001b[1;33m:\u001b[0m \u001b[0m_normal_lorenz\u001b[0m\u001b[1;33m(\u001b[0m\u001b[0mx\u001b[0m\u001b[1;33m,\u001b[0m \u001b[1;33m**\u001b[0m\u001b[0mkwargs\u001b[0m\u001b[1;33m)\u001b[0m\u001b[1;33m\u001b[0m\u001b[1;33m\u001b[0m\u001b[0m\n\u001b[0m\u001b[0;32m    443\u001b[0m     \u001b[1;32melif\u001b[0m \u001b[0msys_flag_syn\u001b[0m \u001b[1;33m==\u001b[0m \u001b[1;36m3\u001b[0m\u001b[1;33m:\u001b[0m\u001b[1;33m\u001b[0m\u001b[1;33m\u001b[0m\u001b[0m\n\u001b[0;32m    444\u001b[0m         \u001b[0mf\u001b[0m \u001b[1;33m=\u001b[0m \u001b[1;32mlambda\u001b[0m \u001b[0mx\u001b[0m\u001b[1;33m:\u001b[0m \u001b[0m_roessler\u001b[0m\u001b[1;33m(\u001b[0m\u001b[0mx\u001b[0m\u001b[1;33m,\u001b[0m \u001b[1;33m**\u001b[0m\u001b[0mkwargs\u001b[0m\u001b[1;33m)\u001b[0m\u001b[1;33m\u001b[0m\u001b[1;33m\u001b[0m\u001b[0m\n",
      "\u001b[1;32mc:\\users\\dennis\\documents\\github\\rescomp\\rescomp\\simulations.py\u001b[0m in \u001b[0;36m_normal_lorenz\u001b[1;34m(x, sigma, rho, beta)\u001b[0m\n\u001b[0;32m     62\u001b[0m \u001b[1;33m\u001b[0m\u001b[0m\n\u001b[0;32m     63\u001b[0m     \"\"\"\n\u001b[1;32m---> 64\u001b[1;33m     \u001b[0mnp\u001b[0m\u001b[1;33m.\u001b[0m\u001b[0marray\u001b[0m\u001b[1;33m(\u001b[0m\u001b[0mx\u001b[0m\u001b[1;33m)\u001b[0m\u001b[1;33m\u001b[0m\u001b[1;33m\u001b[0m\u001b[0m\n\u001b[0m\u001b[0;32m     65\u001b[0m     \u001b[1;32mif\u001b[0m \u001b[0mx\u001b[0m\u001b[1;33m.\u001b[0m\u001b[0mshape\u001b[0m \u001b[1;33m==\u001b[0m \u001b[1;33m(\u001b[0m\u001b[1;36m3\u001b[0m\u001b[1;33m,\u001b[0m\u001b[1;33m)\u001b[0m\u001b[1;33m:\u001b[0m\u001b[1;33m\u001b[0m\u001b[1;33m\u001b[0m\u001b[0m\n\u001b[0;32m     66\u001b[0m         return np.array([sigma * (x[1] - x[0]),\n",
      "\u001b[1;31mKeyboardInterrupt\u001b[0m: "
     ]
    }
   ],
   "source": [
    "starting_point = np.array([-14.03020521, -20.88693127, 25.53545])\n",
    "\n",
    "dt = 0.1\n",
    "N = 2000\n",
    "tau = 100\n",
    "T = 2\n",
    "eps = 1e-6\n",
    "f = lambda x: data_creation_function_Lorenz(time_steps=2, dt=dt, starting_point=x)[-1]\n",
    "\n",
    "\n",
    "lyapunov_exp, lyapunov_exp_convergence = rescomp.measures.iterator_based_lyapunov_spectrum(f, starting_point, T=T, \n",
    "                                                                                           tau=tau,\n",
    "                                                  eps=eps, nr_steps=N, dt=dt, return_convergence=True)"
   ]
  },
  {
   "cell_type": "code",
   "execution_count": null,
   "id": "bb2b21de",
   "metadata": {},
   "outputs": [],
   "source": [
    "print(lyapunov_exp)\n",
    "plt.figure(figsize=(10,5))\n",
    "for iteration in lyapunov_exp_convergence.T:\n",
    "    plt.plot(iteration)\n",
    "plt.grid()"
   ]
  },
  {
   "cell_type": "code",
   "execution_count": 8,
   "id": "fb5054be",
   "metadata": {},
   "outputs": [
    {
     "ename": "NameError",
     "evalue": "name 'get_lypunov_exponents_Lorenz' is not defined",
     "output_type": "error",
     "traceback": [
      "\u001b[1;31m---------------------------------------------------------------------------\u001b[0m",
      "\u001b[1;31mNameError\u001b[0m                                 Traceback (most recent call last)",
      "\u001b[1;32m~\\AppData\\Local\\Temp/ipykernel_13340/3216492736.py\u001b[0m in \u001b[0;36m<module>\u001b[1;34m\u001b[0m\n\u001b[1;32m----> 1\u001b[1;33m get_lypunov_exponents_Lorenz(data_creation_function, tau=tau, T=T,\n\u001b[0m\u001b[0;32m      2\u001b[0m                                               \u001b[0mN\u001b[0m\u001b[1;33m=\u001b[0m\u001b[0mN\u001b[0m\u001b[1;33m,\u001b[0m \u001b[0mdt\u001b[0m\u001b[1;33m=\u001b[0m\u001b[0mdt\u001b[0m\u001b[1;33m,\u001b[0m \u001b[0meps\u001b[0m\u001b[1;33m=\u001b[0m\u001b[0meps\u001b[0m\u001b[1;33m,\u001b[0m \u001b[0mm\u001b[0m\u001b[1;33m=\u001b[0m\u001b[0mm\u001b[0m\u001b[1;33m,\u001b[0m \u001b[0mstarting_point\u001b[0m\u001b[1;33m=\u001b[0m\u001b[0mstarting_point\u001b[0m\u001b[1;33m,\u001b[0m\u001b[1;33m\u001b[0m\u001b[1;33m\u001b[0m\u001b[0m\n\u001b[0;32m      3\u001b[0m                                               iteration_process=True)\n",
      "\u001b[1;31mNameError\u001b[0m: name 'get_lypunov_exponents_Lorenz' is not defined"
     ]
    }
   ],
   "source": [
    "get_lypunov_exponents_Lorenz(data_creation_function, tau=tau, T=T,\n",
    "                                              N=N, dt=dt, eps=eps, m=m, starting_point=starting_point,\n",
    "                                              iteration_process=True)"
   ]
  },
  {
   "cell_type": "markdown",
   "id": "473b1359",
   "metadata": {},
   "source": [
    "# Lorenz:"
   ]
  },
  {
   "cell_type": "code",
   "execution_count": null,
   "id": "93cb5b66",
   "metadata": {},
   "outputs": [],
   "source": [
    "starting_point = np.array([-14.03020521, -20.88693127, 25.53545])\n",
    "\n",
    "dt = 0.1\n",
    "N = 20000\n",
    "tau = 100\n",
    "\n",
    "# For predictor based calculation:\n",
    "T = 1\n",
    "eps = 1e-8\n",
    "m = 3\n",
    "iteration_process=True\n",
    "\n",
    "# For Joshas code:\n",
    "f = lambda x: data_creation_function_Lorenz(time_steps=1, dt=dt, starting_point=x)[-1]\n",
    "Jacobian = lambda x: Jacobian_Lorenz(x, dt=dt)\n",
    "return_convergence=True"
   ]
  },
  {
   "cell_type": "code",
   "execution_count": null,
   "id": "b318e655",
   "metadata": {},
   "outputs": [],
   "source": [
    "# Only based on predictor function x_n+1 = F(x)\n",
    "\n",
    "data_creation_function = data_creation_function_Lorenz\n",
    "get_lypunov_exponents = get_lypunov_exponents_minimal\n",
    "\n",
    "lyapunovs, iterations = get_lypunov_exponents(data_creation_function, tau=tau, T=T,\n",
    "                                              N=N, dt=dt, eps=eps, m=m, starting_point=starting_point,\n",
    "                                              iteration_process=True)\n",
    "\n",
    "print(lyapunovs)\n",
    "plt.figure(figsize=(10,5))\n",
    "for iteration in iterations.T:\n",
    "    plt.plot(iteration)\n",
    "plt.grid()"
   ]
  },
  {
   "cell_type": "code",
   "execution_count": null,
   "id": "acd2b4cd",
   "metadata": {},
   "outputs": [],
   "source": [
    "# Joshkas code:\n",
    "lyapunovs, iterations = equation_based_lyapunov_spectrum_discrete(f, Jacobian, starting_point,\n",
    "                                              nr_steps=N, dt=dt,\n",
    "                                              return_convergence=return_convergence)\n",
    "print(lyapunovs)\n",
    "plt.figure(figsize=(10,5))\n",
    "for iteration in iterations.T:\n",
    "    plt.plot(iteration)\n",
    "plt.grid()"
   ]
  },
  {
   "cell_type": "markdown",
   "id": "ac608d0e",
   "metadata": {},
   "source": [
    "# KS:"
   ]
  },
  {
   "cell_type": "code",
   "execution_count": null,
   "id": "eae05e61",
   "metadata": {},
   "outputs": [],
   "source": [
    "# diag function\n",
    "\n",
    "data_creation_function = data_creation_function_KS\n",
    "get_lypunov_exponents = get_lypunov_exponents_minimal\n",
    "\n",
    "iterations = get_lypunov_exponents(data_creation_function, tau=2000, T=2, N=100, dt=0.1, \n",
    "                                   eps=1e-6, m=10, iteration_process=True)\n",
    "\n",
    "\n",
    "plt.figure(figsize=(10,5))\n",
    "plt.plot(iterations)\n",
    "plt.grid()\n",
    "print(iterations[-1])"
   ]
  },
  {
   "cell_type": "code",
   "execution_count": null,
   "id": "fa5d326e",
   "metadata": {},
   "outputs": [],
   "source": [
    "# abs function\n",
    "\n",
    "data_creation_function = data_creation_function_KS\n",
    "get_lypunov_exponents = get_lypunov_exponents_minimal\n",
    "\n",
    "iterations = get_lypunov_exponents(data_creation_function, tau=5, T=0.1, N=1000, dt=0.01, \n",
    "                                   eps=1e-6, m=2, iteration_process=True)\n",
    "plt.figure(figsize=(10,5))\n",
    "plt.plot(iterations)\n",
    "plt.grid()\n",
    "print(iterations[-1])"
   ]
  },
  {
   "cell_type": "code",
   "execution_count": null,
   "id": "394dfdf9",
   "metadata": {},
   "outputs": [],
   "source": [
    "# Matrix tests to understand the axis conventions in numpy:\n",
    "# >>> first index is the row second index is the column\n",
    "# >>> first index moves in most nested list \n",
    "\n",
    "A = np.zeros((2,2))\n",
    "B = np.array([[4,2], [1,3]])\n",
    "\n",
    "A[0,0] = 1\n",
    "A[0,1] = 2\n",
    "A[1,0] = 3\n",
    "A[1,1] = 4\n",
    "print(A)\n",
    "print(B)"
   ]
  },
  {
   "cell_type": "code",
   "execution_count": null,
   "id": "2c2214e0",
   "metadata": {},
   "outputs": [],
   "source": [
    "A[0]"
   ]
  },
  {
   "cell_type": "code",
   "execution_count": null,
   "id": "4099989a",
   "metadata": {},
   "outputs": [],
   "source": [
    "A.dot(B)"
   ]
  },
  {
   "cell_type": "code",
   "execution_count": null,
   "id": "93a0a488",
   "metadata": {},
   "outputs": [],
   "source": [
    "get_lypunov_exponents_minimal.__code__.co_argcount"
   ]
  },
  {
   "cell_type": "code",
   "execution_count": null,
   "id": "819a2574",
   "metadata": {},
   "outputs": [],
   "source": [
    "data_creation_function_Lorenz(time_steps=5, dt=0.1, starting_point=None).shape"
   ]
  },
  {
   "cell_type": "code",
   "execution_count": null,
   "id": "ed9867a8",
   "metadata": {},
   "outputs": [],
   "source": [
    "np.arange(1, 4+1)"
   ]
  },
  {
   "cell_type": "code",
   "execution_count": null,
   "id": "b9295efb",
   "metadata": {},
   "outputs": [],
   "source": []
  }
 ],
 "metadata": {
  "hide_input": false,
  "kernelspec": {
   "display_name": "PyCharm (rescomp)",
   "language": "python",
   "name": "pycharm-34eaf08f"
  },
  "language_info": {
   "codemirror_mode": {
    "name": "ipython",
    "version": 3
   },
   "file_extension": ".py",
   "mimetype": "text/x-python",
   "name": "python",
   "nbconvert_exporter": "python",
   "pygments_lexer": "ipython3",
   "version": "3.7.5"
  }
 },
 "nbformat": 4,
 "nbformat_minor": 5
}
