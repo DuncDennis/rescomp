{
 "cells": [
  {
   "cell_type": "code",
   "execution_count": 1,
   "id": "a95b6a16",
   "metadata": {},
   "outputs": [],
   "source": [
    "import numpy as np\n",
    "import rescomp\n",
    "\n",
    "import matplotlib.pyplot as plt"
   ]
  },
  {
   "cell_type": "code",
   "execution_count": 2,
   "id": "0de6449b",
   "metadata": {},
   "outputs": [],
   "source": [
    "# best one so far\n",
    "def get_lypunov_exponents_minimal(data_creation_function, tau, T, N, dt, eps, m, starting_point=None, iteration_process=False):\n",
    "    \n",
    "    # setting up\n",
    "    tau_timesteps = int(tau/dt)\n",
    "    T_timesteps = int(T/dt)\n",
    "    \n",
    "    if tau_timesteps == 0:\n",
    "        if starting_point is None:\n",
    "            print(\"ERROR: starting_point is None, and tau is 0\")\n",
    "            return\n",
    "        initial_condition = starting_point\n",
    "    else:     \n",
    "        initial_condition = data_creation_function(tau_timesteps, dt, starting_point=starting_point)[-1] # discard transient states\n",
    "    state_dim = initial_condition.size\n",
    "    if m>state_dim:\n",
    "        print(\"ERROR: m > state_dim\")\n",
    "        return\n",
    "    \n",
    "    # choose initial orthogonal directions:\n",
    "    Q = np.eye(state_dim, m)\n",
    "    \n",
    "    # Space to save u_js:\n",
    "    U = np.zeros((state_dim, N+1))\n",
    "    U[:, 0] = initial_condition\n",
    "    \n",
    "    PsiQ = np.zeros(Q.shape)\n",
    "    \n",
    "    R_diags = np.zeros((N, m))\n",
    "    \n",
    "    for j in range(1, N+1): # for all time intervals\n",
    "        u_jm1 = U[:, j-1]\n",
    "        u_j = data_creation_function(T_timesteps, dt, starting_point = u_jm1)[-1]\n",
    "        U[:, j] = u_j\n",
    "        for i in range(m): # for all dimensions\n",
    "            q_i = Q[:, i] # the (j-1)th Q\n",
    "            u_jm1_per = u_jm1 + eps*q_i\n",
    "            w_i_j = data_creation_function(T_timesteps, dt, starting_point = u_jm1_per)[-1]\n",
    "            PsiQ[:, i] = (w_i_j - u_j)/eps # approximation of Psi(t_j, t_jm1)q_i(j_m1)\n",
    "        \n",
    "        Q, R = np.linalg.qr(PsiQ) # the new Q (the jth)\n",
    "\n",
    "        for i in range(m):\n",
    "            R_diags[j-1, i] = R[i, i]\n",
    "    lyapunov_exp = np.sum(np.log(np.abs(R_diags))/(N*T), axis = 0)\n",
    "    if iteration_process:\n",
    "        times = np.arange(1, N+1)*T\n",
    "        lyapunov_exp_convergence = np.cumsum(np.log(np.abs(R_diags)), axis = 0)/(np.tile(times, (m, 1)).T)\n",
    "        return lyapunov_exp, lyapunov_exp_convergence\n",
    "    return lyapunov_exp"
   ]
  },
  {
   "cell_type": "code",
   "execution_count": 3,
   "id": "1d7194ac",
   "metadata": {},
   "outputs": [],
   "source": [
    "# KS system:\n",
    "dimensions = 64\n",
    "system_size = 35\n",
    "def data_creation_function_KS(time_steps, dt, starting_point=None):\n",
    "    sim_data = rescomp.simulate_trajectory(\n",
    "            sys_flag='kuramoto_sivashinsky', dimensions=dimensions, system_size=system_size, dt=dt,\n",
    "            time_steps=time_steps, starting_point = starting_point)\n",
    "    return sim_data\n",
    "\n",
    "# Lorenz system\n",
    "def data_creation_function_Lorenz(time_steps, dt, starting_point=None):\n",
    "    return  rescomp.simulate_trajectory(\n",
    "            sys_flag='lorenz', dt=dt, time_steps=time_steps,\n",
    "            starting_point=starting_point)"
   ]
  },
  {
   "cell_type": "markdown",
   "id": "da7f00fa",
   "metadata": {},
   "source": [
    "### parameters"
   ]
  },
  {
   "cell_type": "code",
   "execution_count": 14,
   "id": "e29f1abf",
   "metadata": {},
   "outputs": [],
   "source": [
    "starting_point = np.array([-14.03020521, -20.88693127, 25.53545])\n",
    "\n",
    "dt = 0.1\n",
    "N = 1000\n",
    "tau = 100\n",
    "T = 2\n",
    "eps = 1e-6"
   ]
  },
  {
   "cell_type": "markdown",
   "id": "99d5bc7d",
   "metadata": {},
   "source": [
    " ### rescomp code:"
   ]
  },
  {
   "cell_type": "code",
   "execution_count": 15,
   "id": "3258a3d9",
   "metadata": {},
   "outputs": [],
   "source": [
    "f = lambda x: data_creation_function_Lorenz(time_steps=2, dt=dt, starting_point=x)[-1]\n",
    "\n",
    "\n",
    "lyapunov_exp, lyapunov_exp_convergence = rescomp.measures.iterator_based_lyapunov_spectrum(f, starting_point, T=T, \n",
    "                                                                                           tau=tau,\n",
    "                                                  eps=eps, nr_steps=N, dt=dt, return_convergence=True)"
   ]
  },
  {
   "cell_type": "code",
   "execution_count": 16,
   "id": "bd3dc691",
   "metadata": {},
   "outputs": [
    {
     "name": "stdout",
     "output_type": "stream",
     "text": [
      "[ 0.78373637  0.01584379 -7.98745727]\n"
     ]
    },
    {
     "data": {
      "image/png": "[encoded data removed]",
      "text/plain": [
       "<Figure size 720x360 with 1 Axes>"
      ]
     },
     "metadata": {
      "needs_background": "light"
     },
     "output_type": "display_data"
    }
   ],
   "source": [
    "print(lyapunov_exp)\n",
    "plt.figure(figsize=(10,5))\n",
    "for iteration in lyapunov_exp_convergence.T:\n",
    "    plt.plot(iteration)\n",
    "plt.grid()"
   ]
  },
  {
   "cell_type": "markdown",
   "id": "b9f5d62a",
   "metadata": {},
   "source": [
    "### code from notebook"
   ]
  },
  {
   "cell_type": "code",
   "execution_count": 10,
   "id": "cca89573",
   "metadata": {},
   "outputs": [],
   "source": [
    "m = 2\n",
    "lyapunov_exp, lyapunov_exp_convergence = get_lypunov_exponents_minimal(data_creation_function_Lorenz, tau=tau, T=T,\n",
    "                                              N=N, dt=dt, eps=eps, m=m, starting_point=starting_point,\n",
    "                                              iteration_process=True)"
   ]
  },
  {
   "cell_type": "code",
   "execution_count": 11,
   "id": "eaa9dc2f",
   "metadata": {},
   "outputs": [
    {
     "name": "stdout",
     "output_type": "stream",
     "text": [
      "[ 0.81739352 -0.00483535]\n"
     ]
    },
    {
     "data": {
      "image/png": "[encoded data removed]",
      "text/plain": [
       "<Figure size 720x360 with 1 Axes>"
      ]
     },
     "metadata": {
      "needs_background": "light"
     },
     "output_type": "display_data"
    }
   ],
   "source": [
    "print(lyapunov_exp)\n",
    "plt.figure(figsize=(10,5))\n",
    "for iteration in lyapunov_exp_convergence.T:\n",
    "    plt.plot(iteration)\n",
    "plt.grid()"
   ]
  },
  {
   "cell_type": "code",
   "execution_count": 9,
   "id": "ac54da0e",
   "metadata": {},
   "outputs": [
    {
     "data": {
      "text/plain": [
       "array([ True,  True,  True])"
      ]
     },
     "execution_count": 9,
     "metadata": {},
     "output_type": "execute_result"
    }
   ],
   "source": [
    "data_creation_function_Lorenz(time_steps=4, dt=0.1, starting_point=starting_point)[0] == starting_point"
   ]
  },
  {
   "cell_type": "code",
   "execution_count": null,
   "id": "67278959",
   "metadata": {},
   "outputs": [],
   "source": []
  }
 ],
 "metadata": {
  "hide_input": false,
  "kernelspec": {
   "display_name": "PyCharm (rescomp)",
   "language": "python",
   "name": "pycharm-34eaf08f"
  },
  "language_info": {
   "codemirror_mode": {
    "name": "ipython",
    "version": 3
   },
   "file_extension": ".py",
   "mimetype": "text/x-python",
   "name": "python",
   "nbconvert_exporter": "python",
   "pygments_lexer": "ipython3",
   "version": "3.7.5"
  }
 },
 "nbformat": 4,
 "nbformat_minor": 5
}
