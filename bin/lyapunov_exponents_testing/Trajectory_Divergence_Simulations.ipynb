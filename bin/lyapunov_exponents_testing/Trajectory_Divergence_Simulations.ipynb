{
 "cells": [
  {
   "cell_type": "code",
   "execution_count": 2,
   "id": "d7764822",
   "metadata": {},
   "outputs": [],
   "source": [
    "%load_ext autoreload\n",
    "%autoreload 2\n",
    "\n",
    "import numpy as np\n",
    "import rescomp\n",
    "\n",
    "# new imports:\n",
    "from rescomp.alternative_tests import simulation_tests as simt"
   ]
  },
  {
   "cell_type": "markdown",
   "id": "9e3bae9d",
   "metadata": {},
   "source": [
    "# Conduct experiment:\n",
    "compare trajectory divergence for:\n",
    "- Lorenz\n",
    "- Logistic\n",
    "- Holmes cubic\n",
    "- 4D Hyperchaotic Lorenz\n",
    "- Lorenz96\n",
    "- Kuramoto Sivachinsky"
   ]
  },
  {
   "cell_type": "markdown",
   "source": [
    "### Define path here:"
   ],
   "metadata": {
    "collapsed": false,
    "pycharm": {
     "name": "#%% md\n"
    }
   }
  },
  {
   "cell_type": "code",
   "execution_count": 3,
   "id": "ff92e051",
   "metadata": {},
   "outputs": [],
   "source": [
    "prepath = \"C:/Users\\Dennis\\Documents\\FILES&INFO\\WISSEN\\STUDIUM\\Master LMU\\Masterthesis\\LyapunovExponentsSimulations\"\n",
    "exp_name_both = \"all_sims_0602\""
   ]
  },
  {
   "cell_type": "markdown",
   "source": [
    "## Lorenz:"
   ],
   "metadata": {
    "collapsed": false,
    "pycharm": {
     "name": "#%% md\n"
    }
   }
  },
  {
   "cell_type": "code",
   "execution_count": 39,
   "outputs": [],
   "source": [
    "# create the \"create_sim_func\" func:\n",
    "def create_sim_func(parameters):\n",
    "    sys_flag = \"lorenz\"\n",
    "    def data_creation_function(time_steps, dt, starting_point):\n",
    "        return rescomp.simulations.simulate_trajectory(sys_flag, dt, time_steps, starting_point)\n",
    "\n",
    "    return data_creation_function\n",
    "\n",
    "# create the \"create_sp_func\" starting point func:\n",
    "def create_sp_func(parameters, Nens):\n",
    "    seed = parameters[\"seed\"]\n",
    "    scale = parameters[\"scale\"]\n",
    "    randmode = parameters[\"randmode\"]\n",
    "    np.random.seed(seed)\n",
    "    if randmode == \"normal\":\n",
    "        starting_points = np.random.randn(Nens, 3)\n",
    "    elif randmode == \"uniform\":\n",
    "        starting_points = np.random.uniform(size=(Nens, 3)) - 0.5\n",
    "    return starting_points*scale\n",
    "\n",
    "create_sim_func_keys = []\n",
    "create_sp_func_keys = [\"seed\", \"scale\", \"randmode\"]"
   ],
   "metadata": {
    "collapsed": false,
    "pycharm": {
     "name": "#%%\n"
    }
   }
  },
  {
   "cell_type": "code",
   "execution_count": 41,
   "outputs": [
    {
     "name": "stdout",
     "output_type": "stream",
     "text": [
      "--------------------\n",
      "create_sim_func_keys []\n",
      "create_sp_func_keys ['seed', 'scale', 'randmode']\n",
      "--------------------\n",
      "--------------------\n",
      "PARAMETERS: \n",
      "sim lorenz\n",
      "seed 31\n",
      "scale 1\n",
      "randmode uniform\n",
      "dt 0.05\n",
      "tau 500\n",
      "T 20\n",
      "eps 1e-06\n",
      "--------------------\n",
      "STARTING CALCULATIONS (1): \n",
      "....\n",
      "CALC: 1/1\n",
      "{'seed': 31, 'scale': 1, 'randmode': 'uniform'}, dt: 0.05, tau: 500, T: 20, eps: 1e-06\n",
      "N_ens: 1/50\n",
      "timestep 400/400\r\n",
      "N_ens: 2/50\n",
      "timestep 400/400\r\n",
      "N_ens: 3/50\n",
      "timestep 400/400\r\n",
      "N_ens: 4/50\n",
      "timestep 400/400\r\n",
      "N_ens: 5/50\n",
      "timestep 400/400\r\n",
      "N_ens: 6/50\n",
      "timestep 400/400\r\n",
      "N_ens: 7/50\n",
      "timestep 400/400\r\n",
      "N_ens: 8/50\n",
      "timestep 400/400\r\n",
      "N_ens: 9/50\n",
      "timestep 400/400\r\n",
      "N_ens: 10/50\n",
      "timestep 400/400\r\n",
      "N_ens: 11/50\n",
      "timestep 400/400\r\n",
      "N_ens: 12/50\n",
      "timestep 400/400\r\n",
      "N_ens: 13/50\n",
      "timestep 400/400\r\n",
      "N_ens: 14/50\n",
      "timestep 400/400\r\n",
      "N_ens: 15/50\n",
      "timestep 400/400\r\n",
      "N_ens: 16/50\n",
      "timestep 400/400\r\n",
      "N_ens: 17/50\n",
      "timestep 400/400\r\n",
      "N_ens: 18/50\n",
      "timestep 400/400\r\n",
      "N_ens: 19/50\n",
      "timestep 400/400\r\n",
      "N_ens: 20/50\n",
      "timestep 400/400\r\n",
      "N_ens: 21/50\n",
      "timestep 400/400\r\n",
      "N_ens: 22/50\n",
      "timestep 400/400\r\n",
      "N_ens: 23/50\n",
      "timestep 400/400\r\n",
      "N_ens: 24/50\n",
      "timestep 400/400\r\n",
      "N_ens: 25/50\n",
      "timestep 400/400\r\n",
      "N_ens: 26/50\n",
      "timestep 400/400\r\n",
      "N_ens: 27/50\n",
      "timestep 400/400\r\n",
      "N_ens: 28/50\n",
      "timestep 400/400\r\n",
      "N_ens: 29/50\n",
      "timestep 400/400\r\n",
      "N_ens: 30/50\n",
      "timestep 400/400\r\n",
      "N_ens: 31/50\n",
      "timestep 400/400\r\n",
      "N_ens: 32/50\n",
      "timestep 400/400\r\n",
      "N_ens: 33/50\n",
      "timestep 400/400\r\n",
      "N_ens: 34/50\n",
      "timestep 400/400\r\n",
      "N_ens: 35/50\n",
      "timestep 400/400\r\n",
      "N_ens: 36/50\n",
      "timestep 400/400\r\n",
      "N_ens: 37/50\n",
      "timestep 400/400\r\n",
      "N_ens: 38/50\n",
      "timestep 400/400\r\n",
      "N_ens: 39/50\n",
      "timestep 400/400\r\n",
      "N_ens: 40/50\n",
      "timestep 400/400\r\n",
      "N_ens: 41/50\n",
      "timestep 400/400\r\n",
      "N_ens: 42/50\n",
      "timestep 400/400\r\n",
      "N_ens: 43/50\n",
      "timestep 400/400\r\n",
      "N_ens: 44/50\n",
      "timestep 400/400\r\n",
      "N_ens: 45/50\n",
      "timestep 400/400\r\n",
      "N_ens: 46/50\n",
      "timestep 400/400\r\n",
      "N_ens: 47/50\n",
      "timestep 400/400\r\n",
      "N_ens: 48/50\n",
      "timestep 400/400\r\n",
      "N_ens: 49/50\n",
      "timestep 400/400\r\n",
      "N_ens: 50/50\n",
      "timestep 400/400\r\n"
     ]
    }
   ],
   "source": [
    "# create the parameter dict to define the experiment:\n",
    "parameter_dict = {\n",
    "    \"sim\": [\"lorenz\"],\n",
    "    \"seed\": 31,\n",
    "    \"scale\": [1 ],\n",
    "    \"randmode\": [\"uniform\"],\n",
    "\n",
    "    \"dt\": [0.05],\n",
    "    \"tau\": 500,\n",
    "    \"T\": 20,\n",
    "\n",
    "    \"eps\": [1e-6]\n",
    "}\n",
    "\n",
    "# define Ndims and Nens\n",
    "Ndims = 5\n",
    "Nens = 50\n",
    "\n",
    "# define saving:\n",
    "save = True\n",
    "\n",
    "div_name = \"_lorenz\"\n",
    "exp_name_div = exp_name_both + div_name\n",
    "\n",
    "# other parameters:\n",
    "get_info = True\n",
    "random_directions = True\n",
    "\n",
    "out_div = simt.compare_simulations_div(create_sim_func, create_sp_func, create_sim_func_keys, create_sp_func_keys,\n",
    "                    parameter_dict, save=save, prepath=prepath, exp_name=exp_name_div, Nens=Nens, Ndims=Ndims\n",
    "                         , get_info=get_info, random_directions=random_directions)"
   ],
   "metadata": {
    "collapsed": false,
    "pycharm": {
     "name": "#%%\n"
    }
   }
  },
  {
   "cell_type": "code",
   "execution_count": 42,
   "outputs": [
    {
     "name": "stdout",
     "output_type": "stream",
     "text": [
      "lines: 1, cols: 1, rows: 1\n",
      "x_steps:  401\n",
      "T:  20\n"
     ]
    },
    {
     "data": {
      "text/plain": "<Figure size 720x504 with 1 Axes>",
      "image/png": "[encoded data removed]"
     },
     "metadata": {},
     "output_type": "display_data"
    }
   ],
   "source": [
    "plot_func = simt.plot_div_file\n",
    "\n",
    "zs = []\n",
    "xs = []\n",
    "ys = []\n",
    "\n",
    "# simt.plot_div_file kwargs\n",
    "mean_axs = \"all\"\n",
    "show_error = 0\n",
    "dim_index = None\n",
    "ens_index = None\n",
    "\n",
    "include_fit = 1\n",
    "t_min = 0\n",
    "t_max = 15\n",
    "\n",
    "include_fit_qr = 0\n",
    "t_min_qr = 0\n",
    "t_max_qr = 7.5\n",
    "\n",
    "subfigsize = (10, 7)\n",
    "xlims = None #(0,10)\n",
    "ylims = None # (-1, 10)\n",
    "\n",
    "simt.plot_experiment(plot_func, prepath, exp_name_div, zs=zs, xs=xs, ys=ys, subfigsize=subfigsize, xlims=xlims,\n",
    "                     ylims=ylims,\n",
    "                     mean_axs=mean_axs, show_error=show_error,\n",
    "                 rel_dist=True, include_fit=include_fit, dim_index=dim_index, ens_index=ens_index,\n",
    "                t_min=t_min, t_max=t_max, include_fit_qr=include_fit_qr, t_min_qr=t_min_qr, t_max_qr=t_max_qr)"
   ],
   "metadata": {
    "collapsed": false,
    "pycharm": {
     "name": "#%%\n"
    }
   }
  },
  {
   "cell_type": "markdown",
   "source": [
    "## Logistic Map:"
   ],
   "metadata": {
    "collapsed": false,
    "pycharm": {
     "name": "#%% md\n"
    }
   }
  },
  {
   "cell_type": "code",
   "execution_count": 43,
   "outputs": [],
   "source": [
    "# create the \"create_sim_func\" func:\n",
    "def create_sim_func(parameters):\n",
    "    r = parameters[\"r\"]\n",
    "    sys_flag = \"logistic\"\n",
    "    def data_creation_function(time_steps, dt, starting_point):\n",
    "        return rescomp.simulations.simulate_trajectory(sys_flag, dt, time_steps, starting_point, r=r)\n",
    "    return data_creation_function\n",
    "\n",
    "# create the \"create_sp_func\" starting point func:\n",
    "def create_sp_func(parameters, Nens):\n",
    "    seed = parameters[\"seed\"]\n",
    "    np.random.seed(seed)\n",
    "    starting_points = np.random.uniform(size=(Nens, 1))*0.2\n",
    "    return starting_points\n",
    "\n",
    "create_sim_func_keys = [\"r\"]\n",
    "create_sp_func_keys = [\"seed\", \"scale\", \"randmode\"]"
   ],
   "metadata": {
    "collapsed": false,
    "pycharm": {
     "name": "#%%\n"
    }
   }
  },
  {
   "cell_type": "code",
   "execution_count": 44,
   "outputs": [
    {
     "name": "stdout",
     "output_type": "stream",
     "text": [
      "--------------------\n",
      "create_sim_func_keys ['r']\n",
      "create_sp_func_keys ['seed', 'scale', 'randmode']\n",
      "--------------------\n",
      "--------------------\n",
      "PARAMETERS: \n",
      "r 4\n",
      "seed 31\n",
      "dt 1\n",
      "tau 50\n",
      "T 20\n",
      "eps 1e-06\n",
      "--------------------\n",
      "STARTING CALCULATIONS (1): \n",
      "....\n",
      "CALC: 1/1\n",
      "{'r': 4, 'seed': 31}, dt: 1, tau: 50, T: 20, eps: 1e-06\n",
      "N_ens: 1/30\n",
      "timestep 20/20\r\n",
      "N_ens: 2/30\n",
      "timestep 20/20\r\n",
      "N_ens: 3/30\n",
      "timestep 20/20\r\n",
      "N_ens: 4/30\n",
      "timestep 20/20\r\n",
      "N_ens: 5/30\n",
      "timestep 20/20\r\n",
      "N_ens: 6/30\n",
      "timestep 20/20\r\n",
      "N_ens: 7/30\n",
      "timestep 20/20\r\n",
      "N_ens: 8/30\n",
      "timestep 20/20\r\n",
      "N_ens: 9/30\n",
      "timestep 20/20\r\n",
      "N_ens: 10/30\n",
      "timestep 20/20\r\n",
      "N_ens: 11/30\n",
      "timestep 20/20\r\n",
      "N_ens: 12/30\n",
      "timestep 20/20\r\n",
      "N_ens: 13/30\n",
      "timestep 20/20\r\n",
      "N_ens: 14/30\n",
      "timestep 20/20\r\n",
      "N_ens: 15/30\n",
      "timestep 20/20\r\n",
      "N_ens: 16/30\n",
      "timestep 20/20\r\n",
      "N_ens: 17/30\n",
      "timestep 20/20\r\n",
      "N_ens: 18/30\n",
      "timestep 20/20\r\n",
      "N_ens: 19/30\n",
      "timestep 20/20\r\n",
      "N_ens: 20/30\n",
      "timestep 20/20\r\n",
      "N_ens: 21/30\n",
      "timestep 20/20\r\n",
      "N_ens: 22/30\n",
      "timestep 20/20\r\n",
      "N_ens: 23/30\n",
      "timestep 20/20\r\n",
      "N_ens: 24/30\n",
      "timestep 20/20\r\n",
      "N_ens: 25/30\n",
      "timestep 20/20\r\n",
      "N_ens: 26/30\n",
      "timestep 20/20\r\n",
      "N_ens: 27/30\n",
      "timestep 20/20\r\n",
      "N_ens: 28/30\n",
      "timestep 20/20\r\n",
      "N_ens: 29/30\n",
      "timestep 20/20\r\n",
      "N_ens: 30/30\n",
      "timestep 20/20\r\n"
     ]
    }
   ],
   "source": [
    "# create the parameter dict to define the experiment:\n",
    "parameter_dict = {\n",
    "    \"r\": 4,\n",
    "    \"seed\": 31,\n",
    "\n",
    "    \"dt\": [1],\n",
    "    \"tau\": 50,\n",
    "    \"T\": 20,\n",
    "\n",
    "    \"eps\": [1e-6]\n",
    "}\n",
    "\n",
    "# define Ndims and Nens\n",
    "Ndims = 10\n",
    "Nens = 30\n",
    "\n",
    "# define saving:\n",
    "save = True\n",
    "\n",
    "div_name = \"_logistic\"\n",
    "exp_name_div = exp_name_both + div_name\n",
    "\n",
    "# other parameters:\n",
    "get_info = True\n",
    "random_directions = True\n",
    "\n",
    "out_div = simt.compare_simulations_div(create_sim_func, create_sp_func, create_sim_func_keys, create_sp_func_keys,\n",
    "                    parameter_dict, save=save, prepath=prepath, exp_name=exp_name_div, Nens=Nens, Ndims=Ndims\n",
    "                         , get_info=get_info, random_directions=random_directions)"
   ],
   "metadata": {
    "collapsed": false,
    "pycharm": {
     "name": "#%%\n"
    }
   }
  },
  {
   "cell_type": "code",
   "execution_count": 45,
   "outputs": [
    {
     "name": "stdout",
     "output_type": "stream",
     "text": [
      "lines: 1, cols: 1, rows: 1\n",
      "x_steps:  21\n",
      "T:  20\n"
     ]
    },
    {
     "data": {
      "text/plain": "<Figure size 720x504 with 1 Axes>",
      "image/png": "[encoded data removed]"
     },
     "metadata": {},
     "output_type": "display_data"
    }
   ],
   "source": [
    "plot_func = simt.plot_div_file\n",
    "\n",
    "zs = []\n",
    "xs = []\n",
    "ys = []\n",
    "\n",
    "# simt.plot_div_file kwargs\n",
    "mean_axs = \"all\"\n",
    "show_error = 0\n",
    "dim_index = None\n",
    "ens_index = None\n",
    "\n",
    "include_fit = 1\n",
    "t_min = 0\n",
    "t_max = 15\n",
    "\n",
    "include_fit_qr = 0\n",
    "t_min_qr = 0\n",
    "t_max_qr = 7.5\n",
    "\n",
    "subfigsize = (10, 7)\n",
    "xlims = None #(0,10)\n",
    "ylims = None # (-1, 10)\n",
    "\n",
    "simt.plot_experiment(plot_func, prepath, exp_name_div, zs=zs, xs=xs, ys=ys, subfigsize=subfigsize, xlims=xlims,\n",
    "                     ylims=ylims,\n",
    "                     mean_axs=mean_axs, show_error=show_error,\n",
    "                 rel_dist=True, include_fit=include_fit, dim_index=dim_index, ens_index=ens_index,\n",
    "                t_min=t_min, t_max=t_max, include_fit_qr=include_fit_qr, t_min_qr=t_min_qr, t_max_qr=t_max_qr)"
   ],
   "metadata": {
    "collapsed": false,
    "pycharm": {
     "name": "#%%\n"
    }
   }
  },
  {
   "cell_type": "markdown",
   "source": [
    "## Kuramoto Sivachinsky:\n"
   ],
   "metadata": {
    "collapsed": false,
    "pycharm": {
     "name": "#%% md\n"
    }
   }
  },
  {
   "cell_type": "code",
   "execution_count": 4,
   "outputs": [],
   "source": [
    "# define all the simulations we want to test:\n",
    "\n",
    "def create_ks_sim_func(mode, dimensions, system_size, *args):\n",
    "    if mode == \"precision\":\n",
    "        def data_creation_function(time_steps, dt, starting_point=None):\n",
    "            return rescomp.simulations._kuramoto_sivashinsky_custom(dimensions, system_size, dt, time_steps,\n",
    "                                                                    starting_point,\n",
    "                                     precision=args[1], fft_type=args[0])\n",
    "    elif mode == \"Bhatt\":\n",
    "        def data_creation_function(time_steps, dt, starting_point=None):\n",
    "            return rescomp.simulations._kuramoto_sivashinsky_Bhatt(dimensions, system_size, dt, time_steps,\n",
    "                                                                   starting_point)\n",
    "    elif mode == \"normal\":\n",
    "        def data_creation_function(time_steps, dt, starting_point=None):\n",
    "            return rescomp.simulations._kuramoto_sivashinsky(dimensions, system_size, dt, time_steps, starting_point)\n",
    "    elif mode == \"normal_M\":\n",
    "        def data_creation_function(time_steps, dt, starting_point=None):\n",
    "            return rescomp.simulations._kuramoto_sivashinsky(dimensions, system_size, dt, time_steps, starting_point,\n",
    "                                                             M=args[0])\n",
    "    elif mode == \"Pathak\":\n",
    "        from rescomp.alternative_sims.pvlachas.Utils import KS\n",
    "        def data_creation_function(time_steps, dt, starting_point=None):\n",
    "            L = system_size / (2 * np.pi)\n",
    "            dns = KS.KS(L=L, N=dimensions, dt=dt, nsteps=time_steps)\n",
    "            dns.IC(u0=starting_point)\n",
    "            # simulate initial transient\n",
    "            dns.simulate()\n",
    "            # convert to physical space\n",
    "            dns.fou2real()\n",
    "            return dns.return_sim_data()\n",
    "    elif mode == \"rkstiff\":\n",
    "        def data_creation_function(time_steps, dt, starting_point=None):\n",
    "            return rescomp.simulations._kuramoto_sivashinsky_rkstiff(dimensions, system_size, dt, time_steps,\n",
    "                                                                   starting_point, IF_eps=args[0])\n",
    "    return data_creation_function\n",
    "\n",
    "# Create different KS Sim functions:\n",
    "def create_ks_sim_dict(dimensions, system_size):\n",
    "    ks_sim_dict = {\n",
    "                   \"scipy32\": create_ks_sim_func(\"precision\", dimensions, system_size, \"scipy\", 32),\n",
    "                   \"scipy64\": create_ks_sim_func(\"precision\", dimensions, system_size, \"scipy\", 64),\n",
    "                   \"scipy\": create_ks_sim_func(\"precision\", dimensions, system_size, \"scipy\", None),\n",
    "                   \"numpy32\": create_ks_sim_func(\"precision\", dimensions, system_size, \"numpy\", 32),\n",
    "                   \"numpy64\": create_ks_sim_func(\"precision\", dimensions, system_size, \"numpy\", 64),\n",
    "                   \"numpy\": create_ks_sim_func(\"precision\", dimensions, system_size, \"numpy\", None),\n",
    "                   \"Bhatt\": create_ks_sim_func(\"Bhatt\", dimensions, system_size),\n",
    "                   \"normal\": create_ks_sim_func(\"normal\", dimensions, system_size),\n",
    "                   \"normalM1\": create_ks_sim_func(\"normal\", dimensions, system_size, 16),\n",
    "                   \"normalM2\": create_ks_sim_func(\"normal\", dimensions, system_size, 200),\n",
    "                   \"Pathak\": create_ks_sim_func(\"Pathak\", dimensions, system_size),\n",
    "                   \"rkstiff\": create_ks_sim_func(\"rkstiff\", dimensions, system_size, 1e-4),\n",
    "                   \"rkstiffE1\": create_ks_sim_func(\"rkstiff\", dimensions, system_size, 1e-1),\n",
    "                   \"rkstiffE2\": create_ks_sim_func(\"rkstiff\", dimensions, system_size, 1e-2),\n",
    "                   \"rkstiffE3\": create_ks_sim_func(\"rkstiff\", dimensions, system_size, 1e-7),\n",
    "    }\n",
    "    return ks_sim_dict"
   ],
   "metadata": {
    "collapsed": false,
    "pycharm": {
     "name": "#%%\n"
    }
   }
  },
  {
   "cell_type": "code",
   "execution_count": 7,
   "outputs": [],
   "source": [
    "# create the \"create_sim_func\" func:\n",
    "def create_sim_func(parameters):\n",
    "    dims = parameters[\"dims\"]\n",
    "    L = parameters[\"L\"]\n",
    "    sim = parameters[\"sim\"]\n",
    "    return create_ks_sim_dict(dimensions=dims, system_size=L)[sim]\n",
    "\n",
    "# create the \"create_sp_func\" starting point func:\n",
    "def create_sp_func(parameters, Nens):\n",
    "    dims = parameters[\"dims\"]\n",
    "    seed = parameters[\"seed\"]\n",
    "    scale = parameters[\"scale\"]\n",
    "    np.random.seed(seed)\n",
    "    starting_points = np.random.randn(Nens, dims)*scale\n",
    "    return starting_points\n",
    "\n",
    "# # create the \"create_sp_func\" starting point func:\n",
    "# def create_sp_func(parameters, Nens):\n",
    "#     dims = parameters[\"dims\"]\n",
    "#     L = parameters[\"L\"]\n",
    "#     x = L * np.transpose(np.conj(np.arange(1, dims + 1))) / dims\n",
    "#     starting_points = np.cos(2 * np.pi * x / L) * (1 + np.sin(2 * np.pi * x / L))\n",
    "#     return starting_points[np.newaxis, :]\n",
    "\n",
    "create_sim_func_keys = [\"dims\", \"L\", \"sim\"]\n",
    "create_sp_func_keys = [\"dims\", \"seed\", \"scale\"]\n",
    "# create_sp_func_keys = [\"dims\", \"L\"]"
   ],
   "metadata": {
    "collapsed": false,
    "pycharm": {
     "name": "#%%\n"
    }
   }
  },
  {
   "cell_type": "code",
   "execution_count": null,
   "outputs": [
    {
     "name": "stdout",
     "output_type": "stream",
     "text": [
      "--------------------\n",
      "create_sim_func_keys ['dims', 'L', 'sim']\n",
      "create_sp_func_keys ['dims', 'seed', 'scale']\n",
      "--------------------\n",
      "--------------------\n",
      "PARAMETERS: \n",
      "L 36\n",
      "dims 54\n",
      "sim scipy32\n",
      "seed 100\n",
      "scale 2\n",
      "dt 0.25\n",
      "tau 50000\n",
      "T 30\n",
      "eps 1e-06\n",
      "--------------------\n",
      "STARTING CALCULATIONS (1): \n"
     ]
    }
   ],
   "source": [
    "# create the parameter dict to define the experiment:\n",
    "parameter_dict = {\n",
    "    \"L\": 36,\n",
    "    \"dims\": [ 54],\n",
    "    \"sim\": [\"scipy32\", ], # , \"Bhatt\", \"Pathak\", \"rkstiffE1\", \"numpy\", \"numpy32\", \"numpy64\",\n",
    "    \"seed\": 100,\n",
    "    \"scale\": [2],\n",
    "\n",
    "    \"dt\": [0.25],\n",
    "    \"tau\": [50000],\n",
    "    \"T\": 30,\n",
    "\n",
    "    \"eps\":  [1e-6]\n",
    "}\n",
    "# define Ndims and Nens\n",
    "Ndims = 10\n",
    "Nens = 10\n",
    "\n",
    "# define saving:\n",
    "save = True\n",
    "\n",
    "div_name = \"_KS4\"\n",
    "exp_name_div = exp_name_both + div_name\n",
    "\n",
    "# other parameters:\n",
    "get_info = True\n",
    "random_directions = True\n",
    "\n",
    "out_div = simt.compare_simulations_div(create_sim_func, create_sp_func, create_sim_func_keys, create_sp_func_keys,\n",
    "                    parameter_dict, save=save, prepath=prepath, exp_name=exp_name_div, Nens=Nens, Ndims=Ndims\n",
    "                         , get_info=get_info, random_directions=random_directions)"
   ],
   "metadata": {
    "collapsed": false,
    "pycharm": {
     "name": "#%%\n",
     "is_executing": true
    }
   }
  },
  {
   "cell_type": "code",
   "execution_count": 10,
   "outputs": [
    {
     "name": "stdout",
     "output_type": "stream",
     "text": [
      "lines: 2, cols: 1, rows: 1\n"
     ]
    },
    {
     "data": {
      "text/plain": "<Figure size 1080x720 with 1 Axes>",
      "image/png": "[encoded data removed]"
     },
     "metadata": {},
     "output_type": "display_data"
    }
   ],
   "source": [
    "plot_func = simt.plot_div_file\n",
    "\n",
    "zs = [\"scale\"]\n",
    "xs = []\n",
    "ys = []\n",
    "\n",
    "# simt.plot_div_file kwargs\n",
    "mean_axs = \"all\"\n",
    "show_error = 1\n",
    "dim_index = None\n",
    "ens_index = None\n",
    "\n",
    "include_fit = 1\n",
    "t_min = 5\n",
    "t_max = 30\n",
    "\n",
    "include_fit_qr = 0\n",
    "t_min_qr = 5\n",
    "t_max_qr = 30\n",
    "\n",
    "subfigsize = (15, 10)\n",
    "xlims = None # (0,10)\n",
    "ylims = None # (-1, 10)\n",
    "\n",
    "simt.plot_experiment(plot_func, prepath, exp_name_div, zs=zs, xs=xs, ys=ys, subfigsize=subfigsize, xlims=xlims,\n",
    "                     ylims=ylims,\n",
    "                     mean_axs=mean_axs, show_error=show_error,\n",
    "                 rel_dist=True, include_fit=include_fit, dim_index=dim_index, ens_index=ens_index,\n",
    "            t_min=t_min, t_max=t_max, include_fit_qr=include_fit_qr, t_min_qr=t_min_qr, t_max_qr=t_max_qr)"
   ],
   "metadata": {
    "collapsed": false,
    "pycharm": {
     "name": "#%%\n"
    }
   }
  },
  {
   "cell_type": "code",
   "execution_count": null,
   "outputs": [],
   "source": [],
   "metadata": {
    "collapsed": false,
    "pycharm": {
     "name": "#%%\n"
    }
   }
  }
 ],
 "metadata": {
  "hide_input": false,
  "kernelspec": {
   "name": "pycharm-34eaf08f",
   "language": "python",
   "display_name": "PyCharm (rescomp)"
  },
  "language_info": {
   "codemirror_mode": {
    "name": "ipython",
    "version": 3
   },
   "file_extension": ".py",
   "mimetype": "text/x-python",
   "name": "python",
   "nbconvert_exporter": "python",
   "pygments_lexer": "ipython3",
   "version": "3.7.5"
  }
 },
 "nbformat": 4,
 "nbformat_minor": 5
}