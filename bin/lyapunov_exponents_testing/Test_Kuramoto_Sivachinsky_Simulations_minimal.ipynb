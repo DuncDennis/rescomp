{
 "cells": [
  {
   "cell_type": "code",
   "execution_count": 5,
   "id": "d7764822",
   "metadata": {},
   "outputs": [
    {
     "name": "stdout",
     "output_type": "stream",
     "text": [
      "The autoreload extension is already loaded. To reload it, use:\n",
      "  %reload_ext autoreload\n"
     ]
    }
   ],
   "source": [
    "%load_ext autoreload\n",
    "%autoreload 2\n",
    "\n",
    "import numpy as np\n",
    "import rescomp\n",
    "\n",
    "# new imports:\n",
    "from rescomp.alternative_tests import simulation_tests as simt"
   ]
  },
  {
   "cell_type": "markdown",
   "id": "9e3bae9d",
   "metadata": {},
   "source": [
    "# Conduct experiment:\n",
    "- compare divergence\n",
    "- compare Largest LE qr\n",
    "- compare divergence trajectory of qr algorithm"
   ]
  },
  {
   "cell_type": "markdown",
   "id": "cd21e847",
   "metadata": {},
   "source": [
    "## Parameters used for divergence and LLE qr:"
   ]
  },
  {
   "cell_type": "code",
   "execution_count": 6,
   "id": "ff92e051",
   "metadata": {},
   "outputs": [],
   "source": [
    "prepath = \"C:/Users\\Dennis\\Documents\\FILES&INFO\\WISSEN\\STUDIUM\\Master LMU\\Masterthesis\\LyapunovExponentsSimulations\"\n",
    "exp_name_both = \"KS_04_02_2022\""
   ]
  },
  {
   "cell_type": "code",
   "execution_count": 7,
   "id": "5bf76a40",
   "metadata": {},
   "outputs": [],
   "source": [
    "# define all the simulations we want to test:\n",
    "\n",
    "def create_ks_sim_func(mode, dimensions, system_size, *args):\n",
    "    if mode == \"precision\":\n",
    "        def data_creation_function(time_steps, dt, starting_point=None):\n",
    "            return rescomp.simulations._kuramoto_sivashinsky_custom(dimensions, system_size, dt, time_steps, \n",
    "                                                                    starting_point,\n",
    "                                     precision=args[1], fft_type=args[0])\n",
    "    elif mode == \"Bhatt\":\n",
    "        def data_creation_function(time_steps, dt, starting_point=None):\n",
    "            return rescomp.simulations._kuramoto_sivashinsky_Bhatt(dimensions, system_size, dt, time_steps, \n",
    "                                                                   starting_point)\n",
    "    elif mode == \"normal\":\n",
    "        def data_creation_function(time_steps, dt, starting_point=None):\n",
    "            return rescomp.simulations._kuramoto_sivashinsky(dimensions, system_size, dt, time_steps, starting_point)\n",
    "    elif mode == \"normal_M\":\n",
    "        def data_creation_function(time_steps, dt, starting_point=None):\n",
    "            return rescomp.simulations._kuramoto_sivashinsky(dimensions, system_size, dt, time_steps, starting_point, \n",
    "                                                             M=args[0])\n",
    "    elif mode == \"Pathak\":\n",
    "        from rescomp.alternative_sims.pvlachas.Utils import KS\n",
    "        def data_creation_function(time_steps, dt, starting_point=None):\n",
    "            L = system_size / (2 * np.pi)\n",
    "            dns = KS.KS(L=L, N=dimensions, dt=dt, nsteps=time_steps)\n",
    "            dns.IC(u0=starting_point)\n",
    "            # simulate initial transient\n",
    "            dns.simulate()\n",
    "            # convert to physical space\n",
    "            dns.fou2real()\n",
    "            return dns.return_sim_data()\n",
    "    elif mode == \"rkstiff\":\n",
    "        def data_creation_function(time_steps, dt, starting_point=None):\n",
    "            return rescomp.simulations._kuramoto_sivashinsky_rkstiff(dimensions, system_size, dt, time_steps, \n",
    "                                                                   starting_point, IF_eps=args[0])\n",
    "    return data_creation_function\n",
    "\n",
    "# Create different KS Sim functions:\n",
    "def create_ks_sim_dict(dimensions, system_size):\n",
    "    ks_sim_dict = {\n",
    "                   \"scipy32\": create_ks_sim_func(\"precision\", dimensions, system_size, \"scipy\", 32), \n",
    "                   \"scipy64\": create_ks_sim_func(\"precision\", dimensions, system_size, \"scipy\", 64), \n",
    "                   \"scipy\": create_ks_sim_func(\"precision\", dimensions, system_size, \"scipy\", None),\n",
    "                   \"numpy32\": create_ks_sim_func(\"precision\", dimensions, system_size, \"numpy\", 32),\n",
    "                   \"numpy64\": create_ks_sim_func(\"precision\", dimensions, system_size, \"numpy\", 64),\n",
    "                   \"numpy\": create_ks_sim_func(\"precision\", dimensions, system_size, \"numpy\", None),\n",
    "                   \"Bhatt\": create_ks_sim_func(\"Bhatt\", dimensions, system_size),\n",
    "                   \"normal\": create_ks_sim_func(\"normal\", dimensions, system_size),\n",
    "                   \"normalM1\": create_ks_sim_func(\"normal\", dimensions, system_size, 16),\n",
    "                   \"normalM2\": create_ks_sim_func(\"normal\", dimensions, system_size, 200),\n",
    "                   \"Pathak\": create_ks_sim_func(\"Pathak\", dimensions, system_size),\n",
    "                   \"rkstiff\": create_ks_sim_func(\"rkstiff\", dimensions, system_size, 1e-4), \n",
    "                   \"rkstiffE1\": create_ks_sim_func(\"rkstiff\", dimensions, system_size, 1e-1), \n",
    "                   \"rkstiffE2\": create_ks_sim_func(\"rkstiff\", dimensions, system_size, 1e-2), \n",
    "                   \"rkstiffE3\": create_ks_sim_func(\"rkstiff\", dimensions, system_size, 1e-7), \n",
    "    }\n",
    "    return ks_sim_dict"
   ]
  },
  {
   "cell_type": "code",
   "execution_count": 34,
   "id": "0882f675",
   "metadata": {},
   "outputs": [],
   "source": [
    "# create the \"create_sim_func\" func:\n",
    "def create_sim_func(parameters):\n",
    "    dims = parameters[\"dims\"]\n",
    "    L = parameters[\"L\"]\n",
    "    sim = parameters[\"sim\"]\n",
    "    return create_ks_sim_dict(dimensions=dims, system_size=L)[sim]\n",
    "\n",
    "# create the \"create_sp_func\" starting point func:\n",
    "def create_sp_func(parameters, Nens):\n",
    "    dims = parameters[\"dims\"]\n",
    "    seed = parameters[\"seed\"]\n",
    "    np.random.seed(seed)\n",
    "    starting_points = np.random.randn(Nens, dims)\n",
    "    return starting_points\n",
    "\n",
    "# # create the \"create_sp_func\" starting point func:\n",
    "# def create_sp_func(parameters, Nens):\n",
    "#     dims = parameters[\"dims\"]\n",
    "#     L = parameters[\"L\"]\n",
    "#     x = L * np.transpose(np.conj(np.arange(1, dims + 1))) / dims\n",
    "#     starting_points = np.cos(2 * np.pi * x / L) * (1 + np.sin(2 * np.pi * x / L))\n",
    "#     return starting_points[np.newaxis, :]\n",
    "\n",
    "create_sim_func_keys = [\"dims\", \"L\", \"sim\"]\n",
    "create_sp_func_keys = [\"dims\", \"seed\"]\n",
    "# create_sp_func_keys = [\"dims\", \"L\"]"
   ]
  },
  {
   "cell_type": "markdown",
   "id": "26c1b436",
   "metadata": {},
   "source": [
    "## Exp1: Compare Divergence:"
   ]
  },
  {
   "cell_type": "code",
   "execution_count": 35,
   "id": "7c558e58",
   "metadata": {
    "scrolled": true
   },
   "outputs": [
    {
     "name": "stdout",
     "output_type": "stream",
     "text": [
      "--------------------\n",
      "create_sim_func_keys ['dims', 'L', 'sim']\n",
      "create_sp_func_keys ['dims', 'L']\n",
      "--------------------\n",
      "--------------------\n",
      "PARAMETERS: \n",
      "L 36\n",
      "dims 54\n",
      "sim scipy32\n",
      "seed 100\n",
      "dt 0.25\n",
      "tau [1000, 10000]\n",
      "T 30\n",
      "eps 1e-06\n",
      "--------------------\n",
      "STARTING CALCULATIONS (2): \n",
      "....\n",
      "CALC: 1/2\n",
      "{'L': 36, 'dims': 54, 'sim': 'scipy32'}, dt: 0.25, tau: 1000, T: 30, eps: 1e-06\n",
      "N_ens: 1/1\n",
      "timestep 120/120\r\n",
      "....\n",
      "CALC: 2/2\n",
      "{'L': 36, 'dims': 54, 'sim': 'scipy32'}, dt: 0.25, tau: 10000, T: 30, eps: 1e-06\n",
      "N_ens: 1/1\n",
      "timestep 120/120\r\n"
     ]
    }
   ],
   "source": [
    "# create the parameter dict to define the experiment:\n",
    "parameter_dict = {\n",
    "    \"L\": 36,\n",
    "    \"dims\": [54],\n",
    "    \"sim\": [\"scipy32\", ], # , \"Bhatt\", \"Pathak\", \"rkstiffE1\", \"numpy\", \"numpy32\", \"numpy64\", \n",
    "    \"seed\": 100,\n",
    "    \n",
    "    \"dt\": [0.25],\n",
    "    \"tau\": [1000, 10000],\n",
    "    \"T\": 30,\n",
    "    \n",
    "    \"eps\":  [1e-6]\n",
    "}\n",
    "# define Ndims and Nens\n",
    "Ndims = 50\n",
    "Nens = 1\n",
    "\n",
    "# define saving:\n",
    "save = True\n",
    "\n",
    "div_name = \"_div_defaultsp_9\"\n",
    "exp_name_div = exp_name_both + div_name\n",
    "\n",
    "# other parameters:\n",
    "get_info = True\n",
    "random_directions = True\n",
    "\n",
    "out_div = simt.compare_simulations_div(create_sim_func, create_sp_func, create_sim_func_keys, create_sp_func_keys,\n",
    "                    parameter_dict, save=save, prepath=prepath, exp_name=exp_name_div, Nens=Nens, Ndims=Ndims\n",
    "                         , get_info=get_info, random_directions=random_directions)"
   ]
  },
  {
   "cell_type": "markdown",
   "id": "29c66121",
   "metadata": {},
   "source": [
    "# Plotting:"
   ]
  },
  {
   "cell_type": "markdown",
   "id": "46ffa053",
   "metadata": {},
   "source": [
    "### Plot results div:"
   ]
  },
  {
   "cell_type": "code",
   "execution_count": null,
   "id": "533abfdd",
   "metadata": {
    "pycharm": {
     "name": "#%%\n"
    }
   },
   "outputs": [],
   "source": [
    "# #### if you want to LOAD results:\n",
    "# div_name = \"_div3\"\n",
    "# exp_name_div = exp_name_both + div_name\n",
    "# ####\n",
    "#\n",
    "# simt.load_info_file(prepath, exp_name_div)"
   ]
  },
  {
   "cell_type": "code",
   "execution_count": null,
   "outputs": [],
   "source": [
    "plot_func = simt.plot_div_file\n",
    "\n",
    "zs = [\"sim\", \"tau\"]\n",
    "xs = []\n",
    "ys = []\n",
    "\n",
    "# simt.plot_div_file kwargs\n",
    "mean_axs = \"all\"\n",
    "show_error = 0\n",
    "dim_index = None\n",
    "ens_index = None\n",
    "\n",
    "include_fit = 1\n",
    "t_min = 5\n",
    "t_max = 30\n",
    "\n",
    "include_fit_qr = 0\n",
    "t_min_qr = 5\n",
    "t_max_qr = 30\n",
    "\n",
    "subfigsize = (15, 10)\n",
    "xlims = None # (0,10)\n",
    "ylims = None # (-1, 10)\n",
    "\n",
    "simt.plot_experiment(plot_func, prepath, exp_name_div, zs=zs, xs=xs, ys=ys, subfigsize=subfigsize, xlims=xlims,\n",
    "                     ylims=ylims,\n",
    "                     mean_axs=mean_axs, show_error=show_error,\n",
    "                 rel_dist=True, include_fit=include_fit, dim_index=dim_index, ens_index=ens_index,\n",
    "            t_min=t_min, t_max=t_max, include_fit_qr=include_fit_qr, t_min_qr=t_min_qr, t_max_qr=t_max_qr)\n"
   ],
   "metadata": {
    "collapsed": false,
    "pycharm": {
     "name": "#%%\n"
    }
   }
  }
 ],
 "metadata": {
  "hide_input": false,
  "kernelspec": {
   "name": "pycharm-34eaf08f",
   "language": "python",
   "display_name": "PyCharm (rescomp)"
  },
  "language_info": {
   "codemirror_mode": {
    "name": "ipython",
    "version": 3
   },
   "file_extension": ".py",
   "mimetype": "text/x-python",
   "name": "python",
   "nbconvert_exporter": "python",
   "pygments_lexer": "ipython3",
   "version": "3.7.5"
  }
 },
 "nbformat": 4,
 "nbformat_minor": 5
}